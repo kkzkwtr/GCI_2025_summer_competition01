{
  "nbformat": 4,
  "nbformat_minor": 0,
  "metadata": {
    "colab": {
      "provenance": [],
      "authorship_tag": "ABX9TyN7b9CuVA50HRvCwUBS4Pv+",
      "include_colab_link": true
    },
    "kernelspec": {
      "name": "python3",
      "display_name": "Python 3"
    },
    "language_info": {
      "name": "python"
    }
  },
  "cells": [
    {
      "cell_type": "markdown",
      "metadata": {
        "id": "view-in-github",
        "colab_type": "text"
      },
      "source": [
        "<a href=\"https://colab.research.google.com/github/kkzkwtr/GCI_2025_summer_competition01/blob/main/GCI_comptition01_v13.ipynb\" target=\"_parent\"><img src=\"https://colab.research.google.com/assets/colab-badge.svg\" alt=\"Open In Colab\"/></a>"
      ]
    },
    {
      "cell_type": "code",
      "execution_count": 1,
      "metadata": {
        "colab": {
          "base_uri": "https://localhost:8080/"
        },
        "id": "H5EQLfkSmRKO",
        "outputId": "c7b61280-9752-40c0-87a2-1624de375450"
      },
      "outputs": [
        {
          "output_type": "stream",
          "name": "stdout",
          "text": [
            "Mounted at /content/drive\n"
          ]
        }
      ],
      "source": [
        "from google.colab import drive\n",
        "drive.mount('/content/drive')"
      ]
    },
    {
      "cell_type": "code",
      "source": [
        "import numpy as np\n",
        "import pandas as pd\n",
        "from pandas import DataFrame, Series\n",
        "import matplotlib.pyplot as plt\n",
        "import seaborn as sns\n",
        "\n",
        "from sklearn.model_selection import train_test_split, GridSearchCV\n",
        "from sklearn.ensemble import RandomForestClassifier\n",
        "from sklearn.linear_model import LogisticRegression\n",
        "from sklearn.neural_network import MLPClassifier\n",
        "\n",
        "import warnings\n",
        "warnings.filterwarnings('ignore')"
      ],
      "metadata": {
        "id": "9uFxXf92mXOS"
      },
      "execution_count": 2,
      "outputs": []
    },
    {
      "cell_type": "code",
      "source": [
        "path = \"/content/drive/My Drive/Colab Notebooks/GCI_2025_summer/Competitions/competition_1/\"\n",
        "\n",
        "df = pd.read_csv(path + 'data/train.csv')\n",
        "df_test = pd.read_csv(path + 'data/test.csv')\n",
        "\n",
        "#全結合データ\n",
        "df_concat = pd.concat([df,df_test],ignore_index=True)"
      ],
      "metadata": {
        "id": "QksqcLmhmYXe"
      },
      "execution_count": 17,
      "outputs": []
    },
    {
      "cell_type": "markdown",
      "source": [
        "###欠損値補完\n",
        "AgeはPclass, Sex, Parch, SibSp, Title(onehot)を説明変数としたランダムフォレストで補完する\n",
        "\n",
        "手順\n",
        "1. Nameから敬称(Title)を抽出し、Mr,Mrs,Miss,Master,Otherに分ける。\n",
        "2.Titleをone-hotエンコーディング\n",
        "3.ランダムフォレスト適応"
      ],
      "metadata": {
        "id": "6E-VxD4nmpBL"
      }
    },
    {
      "cell_type": "markdown",
      "source": [
        "###Embarked & Fareの欠損値補完\n",
        "カウント数が多いSで補完\n",
        "\n",
        "Fare: EmbarkedとPclassのメジアンで補完\n"
      ],
      "metadata": {
        "id": "EWmT_51XueL_"
      }
    },
    {
      "cell_type": "code",
      "source": [
        "df_concat['Embarked'].fillna('S',inplace=True)\n",
        "embarked = df_concat['Embarked']\n",
        "embarked_ohe = pd.get_dummies(embarked,prefix='Embarked')\n",
        "df_concat = pd.concat([df_concat, embarked_ohe], axis=1)\n",
        "fare = df_concat[(df_concat['Embarked'] == 'S') & (df_concat['Pclass'] == 3)]['Fare'].median()\n",
        "df_concat['Fare'].fillna(fare,inplace=True)\n",
        "df_concat.drop(['Embarked'], axis=1, inplace=True)\n",
        "df_concat.isnull().sum()"
      ],
      "metadata": {
        "colab": {
          "base_uri": "https://localhost:8080/",
          "height": 523
        },
        "id": "nc_A6PLmuS51",
        "outputId": "6762a0b4-6a7a-41c4-add3-b5bdd4e206fc"
      },
      "execution_count": 18,
      "outputs": [
        {
          "output_type": "execute_result",
          "data": {
            "text/plain": [
              "PassengerId       0\n",
              "Perished        418\n",
              "Pclass            0\n",
              "Name              0\n",
              "Sex               0\n",
              "Age             263\n",
              "SibSp             0\n",
              "Parch             0\n",
              "Ticket            0\n",
              "Fare              0\n",
              "Cabin          1014\n",
              "Embarked_C        0\n",
              "Embarked_Q        0\n",
              "Embarked_S        0\n",
              "dtype: int64"
            ],
            "text/html": [
              "<div>\n",
              "<style scoped>\n",
              "    .dataframe tbody tr th:only-of-type {\n",
              "        vertical-align: middle;\n",
              "    }\n",
              "\n",
              "    .dataframe tbody tr th {\n",
              "        vertical-align: top;\n",
              "    }\n",
              "\n",
              "    .dataframe thead th {\n",
              "        text-align: right;\n",
              "    }\n",
              "</style>\n",
              "<table border=\"1\" class=\"dataframe\">\n",
              "  <thead>\n",
              "    <tr style=\"text-align: right;\">\n",
              "      <th></th>\n",
              "      <th>0</th>\n",
              "    </tr>\n",
              "  </thead>\n",
              "  <tbody>\n",
              "    <tr>\n",
              "      <th>PassengerId</th>\n",
              "      <td>0</td>\n",
              "    </tr>\n",
              "    <tr>\n",
              "      <th>Perished</th>\n",
              "      <td>418</td>\n",
              "    </tr>\n",
              "    <tr>\n",
              "      <th>Pclass</th>\n",
              "      <td>0</td>\n",
              "    </tr>\n",
              "    <tr>\n",
              "      <th>Name</th>\n",
              "      <td>0</td>\n",
              "    </tr>\n",
              "    <tr>\n",
              "      <th>Sex</th>\n",
              "      <td>0</td>\n",
              "    </tr>\n",
              "    <tr>\n",
              "      <th>Age</th>\n",
              "      <td>263</td>\n",
              "    </tr>\n",
              "    <tr>\n",
              "      <th>SibSp</th>\n",
              "      <td>0</td>\n",
              "    </tr>\n",
              "    <tr>\n",
              "      <th>Parch</th>\n",
              "      <td>0</td>\n",
              "    </tr>\n",
              "    <tr>\n",
              "      <th>Ticket</th>\n",
              "      <td>0</td>\n",
              "    </tr>\n",
              "    <tr>\n",
              "      <th>Fare</th>\n",
              "      <td>0</td>\n",
              "    </tr>\n",
              "    <tr>\n",
              "      <th>Cabin</th>\n",
              "      <td>1014</td>\n",
              "    </tr>\n",
              "    <tr>\n",
              "      <th>Embarked_C</th>\n",
              "      <td>0</td>\n",
              "    </tr>\n",
              "    <tr>\n",
              "      <th>Embarked_Q</th>\n",
              "      <td>0</td>\n",
              "    </tr>\n",
              "    <tr>\n",
              "      <th>Embarked_S</th>\n",
              "      <td>0</td>\n",
              "    </tr>\n",
              "  </tbody>\n",
              "</table>\n",
              "</div><br><label><b>dtype:</b> int64</label>"
            ]
          },
          "metadata": {},
          "execution_count": 18
        }
      ]
    },
    {
      "cell_type": "code",
      "source": [
        "df_concat['Title'] = df_concat['Name'].map(lambda x: x.split(',')[1].split('.')[0].strip())\n",
        "df_concat['Title'].value_counts()\n",
        "# df_concat['Name_length'] = df_concat['Name'].map(lambda x: len(x))\n",
        "# 例: pandas DataFrame f_concat に \"Title\" カラムがあるとする\n",
        "mapping = {\n",
        "    # 成人男性\n",
        "    'Mr':       'Mr',\n",
        "\n",
        "    # 未婚女性\n",
        "    'Miss':     'Miss',\n",
        "    'Mlle':     'Miss',   # Mlle はフランス語で Miss に相当\n",
        "    'Ms':       'Miss',   # Ms は未婚/既婚を区別しないが、ここでは Miss とみなす\n",
        "\n",
        "    # 既婚女性\n",
        "    'Mrs':      'Mrs',\n",
        "    'Mme':      'Mrs',    # Mme はフランス語で Mrs に相当\n",
        "\n",
        "    # 子供（男児）\n",
        "    'Master':   'Master',\n",
        "\n",
        "    # 貴族\n",
        "    'Sir':          'Royalty',\n",
        "    'Don':          'Royalty',\n",
        "    'Jonkheer':     'Royalty',\n",
        "    'Lady':         'Royalty',\n",
        "    'the Countess': 'Royalty',\n",
        "    'Dona':         'Royalty',\n",
        "\n",
        "    # 軍人・医師・聖職者\n",
        "    'Dr':       'Officer',\n",
        "    'Rev':      'Officer',\n",
        "    'Major':    'Officer',\n",
        "    'Col':      'Officer',\n",
        "    'Capt':     'Officer'\n",
        "}\n",
        "df_concat['Title'] = df_concat['Title'].map(mapping)\n",
        "# df_concat['Title'].fillna('Rare', inplace=True)\n",
        "\n",
        "Title = df_concat['Title']\n",
        "Title_ohe = pd.get_dummies(Title,prefix='Title')\n",
        "df_concat = pd.concat([df_concat, Title_ohe], axis=1)\n",
        "\n",
        "from sklearn.ensemble import RandomForestRegressor\n",
        "#AgeをPclass, Sex, Parch, SibSpでランダムフォレストで推定\n",
        "\n",
        "# 参照: https://qiita.com/jun40vn/items/d8a1f71fae680589e05c\n",
        "\n",
        "#説明変数\n",
        "age_df_concat = df_concat[[\"Age\", \"Pclass\", \"Sex\", \"Parch\", \"SibSp\",\"Title_Master\",\"Title_Miss\",\"Title_Mr\",\"Title_Mrs\",\"Title_Royalty\", \"Title_Officer\",\"Embarked_S\",\"Embarked_Q\",\"Embarked_C\"]]\n",
        "\n",
        "age_df_concat.replace({'Sex': {'male': 0, 'female': 1}}, inplace=True)\n",
        "\n",
        "#学習データ->欠損してないデータ、テストデータ->欠損データ\n",
        "known_age = age_df_concat[age_df_concat.Age.notnull()].values\n",
        "unknown_age = age_df_concat[age_df_concat.Age.isnull()].values\n",
        "\n",
        "X = known_age[:, 1:]\n",
        "y = known_age[:, 0]\n",
        "\n",
        "# ランダムフォレスト年齢推定モデル\n",
        "rf_age = RandomForestRegressor(n_estimators=300,random_state=42, n_jobs=-1)\n",
        "rf_age.fit(X, y)\n",
        "\n",
        "predictedAges = rf_age.predict(unknown_age[:, 1:])\n",
        "df_concat.loc[ (df_concat.Age.isnull()), 'Age' ] = predictedAges\n",
        "df_concat.isnull().sum()"
      ],
      "metadata": {
        "colab": {
          "base_uri": "https://localhost:8080/",
          "height": 742
        },
        "id": "xIxMg0vImZX6",
        "outputId": "0606f308-2b5e-40ea-85b7-43ee896b250d"
      },
      "execution_count": 19,
      "outputs": [
        {
          "output_type": "execute_result",
          "data": {
            "text/plain": [
              "PassengerId         0\n",
              "Perished          418\n",
              "Pclass              0\n",
              "Name                0\n",
              "Sex                 0\n",
              "Age                 0\n",
              "SibSp               0\n",
              "Parch               0\n",
              "Ticket              0\n",
              "Fare                0\n",
              "Cabin            1014\n",
              "Embarked_C          0\n",
              "Embarked_Q          0\n",
              "Embarked_S          0\n",
              "Title               0\n",
              "Title_Master        0\n",
              "Title_Miss          0\n",
              "Title_Mr            0\n",
              "Title_Mrs           0\n",
              "Title_Officer       0\n",
              "Title_Royalty       0\n",
              "dtype: int64"
            ],
            "text/html": [
              "<div>\n",
              "<style scoped>\n",
              "    .dataframe tbody tr th:only-of-type {\n",
              "        vertical-align: middle;\n",
              "    }\n",
              "\n",
              "    .dataframe tbody tr th {\n",
              "        vertical-align: top;\n",
              "    }\n",
              "\n",
              "    .dataframe thead th {\n",
              "        text-align: right;\n",
              "    }\n",
              "</style>\n",
              "<table border=\"1\" class=\"dataframe\">\n",
              "  <thead>\n",
              "    <tr style=\"text-align: right;\">\n",
              "      <th></th>\n",
              "      <th>0</th>\n",
              "    </tr>\n",
              "  </thead>\n",
              "  <tbody>\n",
              "    <tr>\n",
              "      <th>PassengerId</th>\n",
              "      <td>0</td>\n",
              "    </tr>\n",
              "    <tr>\n",
              "      <th>Perished</th>\n",
              "      <td>418</td>\n",
              "    </tr>\n",
              "    <tr>\n",
              "      <th>Pclass</th>\n",
              "      <td>0</td>\n",
              "    </tr>\n",
              "    <tr>\n",
              "      <th>Name</th>\n",
              "      <td>0</td>\n",
              "    </tr>\n",
              "    <tr>\n",
              "      <th>Sex</th>\n",
              "      <td>0</td>\n",
              "    </tr>\n",
              "    <tr>\n",
              "      <th>Age</th>\n",
              "      <td>0</td>\n",
              "    </tr>\n",
              "    <tr>\n",
              "      <th>SibSp</th>\n",
              "      <td>0</td>\n",
              "    </tr>\n",
              "    <tr>\n",
              "      <th>Parch</th>\n",
              "      <td>0</td>\n",
              "    </tr>\n",
              "    <tr>\n",
              "      <th>Ticket</th>\n",
              "      <td>0</td>\n",
              "    </tr>\n",
              "    <tr>\n",
              "      <th>Fare</th>\n",
              "      <td>0</td>\n",
              "    </tr>\n",
              "    <tr>\n",
              "      <th>Cabin</th>\n",
              "      <td>1014</td>\n",
              "    </tr>\n",
              "    <tr>\n",
              "      <th>Embarked_C</th>\n",
              "      <td>0</td>\n",
              "    </tr>\n",
              "    <tr>\n",
              "      <th>Embarked_Q</th>\n",
              "      <td>0</td>\n",
              "    </tr>\n",
              "    <tr>\n",
              "      <th>Embarked_S</th>\n",
              "      <td>0</td>\n",
              "    </tr>\n",
              "    <tr>\n",
              "      <th>Title</th>\n",
              "      <td>0</td>\n",
              "    </tr>\n",
              "    <tr>\n",
              "      <th>Title_Master</th>\n",
              "      <td>0</td>\n",
              "    </tr>\n",
              "    <tr>\n",
              "      <th>Title_Miss</th>\n",
              "      <td>0</td>\n",
              "    </tr>\n",
              "    <tr>\n",
              "      <th>Title_Mr</th>\n",
              "      <td>0</td>\n",
              "    </tr>\n",
              "    <tr>\n",
              "      <th>Title_Mrs</th>\n",
              "      <td>0</td>\n",
              "    </tr>\n",
              "    <tr>\n",
              "      <th>Title_Officer</th>\n",
              "      <td>0</td>\n",
              "    </tr>\n",
              "    <tr>\n",
              "      <th>Title_Royalty</th>\n",
              "      <td>0</td>\n",
              "    </tr>\n",
              "  </tbody>\n",
              "</table>\n",
              "</div><br><label><b>dtype:</b> int64</label>"
            ]
          },
          "metadata": {},
          "execution_count": 19
        }
      ]
    },
    {
      "cell_type": "markdown",
      "source": [
        "###Cabinの欠損値補完\n",
        "Cabinの頭文字を取得して、欠損データには'U'(Unknown)とする。\n",
        "ばらつきがあるので、頻度エンコーディング\n",
        "Cabin_label\n",
        "U    1014\n",
        "C      94\n",
        "B      65\n",
        "D      46\n",
        "E      41\n",
        "A      22\n",
        "F      21\n",
        "G       5\n",
        "T       1"
      ],
      "metadata": {
        "id": "Ity4Ez-KoMge"
      }
    },
    {
      "cell_type": "code",
      "source": [
        "facet = sns.FacetGrid(df_concat[:891], hue='Perished',aspect=2)\n",
        "facet.map(sns.kdeplot, 'Age', shade=True)\n",
        "facet.set(xlim=(0, df_concat[:891]['Age'].max()))\n",
        "facet.add_legend()\n",
        "plt.show()"
      ],
      "metadata": {
        "colab": {
          "base_uri": "https://localhost:8080/",
          "height": 307
        },
        "id": "NcizKG1uiudT",
        "outputId": "2a43f57e-c585-418e-dece-666cb5685b55"
      },
      "execution_count": 8,
      "outputs": [
        {
          "output_type": "display_data",
          "data": {
            "text/plain": [
              "<Figure size 672x300 with 1 Axes>"
            ],
            "image/png": "[encoded data removed]"
          },
          "metadata": {}
        }
      ]
    },
    {
      "cell_type": "code",
      "source": [
        "#Cabinの欠損値\n",
        "df_concat['Cabin'] = df_concat['Cabin'].fillna('Unknown')\n",
        "df_concat['Cabin_label'] = df_concat['Cabin'].str.get(0)\n",
        "# mean_perished = df_concat.groupby('Cabin_label')['Perished'].mean()\n",
        "# order = mean_perished.sort_values(ascending=True).index.tolist()\n",
        "# sns.barplot(x='Cabin_label', y='Perished', data=df_concat,order=order, palette='Set3')\n",
        "# plt.show()\n",
        "\n",
        "# freq = df_concat.loc[:890,'Cabin_label'].value_counts(normalize=True).to_dict()\n",
        "# df_concat['Cabin_label'] = df_concat['Cabin_label'].map(freq)\n",
        "# df_concat['Cabin_label'].fillna(0, inplace=True)\n",
        "Cabin_label = df_concat['Cabin_label']\n",
        "Cabin_label_ohe = pd.get_dummies(Cabin_label,prefix='Cabin')\n",
        "df_concat = pd.concat([df_concat, Cabin_label_ohe], axis=1)\n",
        "df_concat.drop(['Cabin_label'], axis=1, inplace=True)\n",
        "df_concat.info()"
      ],
      "metadata": {
        "id": "N-Zbvf1GoGXg",
        "colab": {
          "base_uri": "https://localhost:8080/"
        },
        "outputId": "404e404b-b86e-4a96-d1e6-b2b42324bac6"
      },
      "execution_count": 20,
      "outputs": [
        {
          "output_type": "stream",
          "name": "stdout",
          "text": [
            "<class 'pandas.core.frame.DataFrame'>\n",
            "RangeIndex: 1309 entries, 0 to 1308\n",
            "Data columns (total 30 columns):\n",
            " #   Column         Non-Null Count  Dtype  \n",
            "---  ------         --------------  -----  \n",
            " 0   PassengerId    1309 non-null   int64  \n",
            " 1   Perished       891 non-null    float64\n",
            " 2   Pclass         1309 non-null   int64  \n",
            " 3   Name           1309 non-null   object \n",
            " 4   Sex            1309 non-null   object \n",
            " 5   Age            1309 non-null   float64\n",
            " 6   SibSp          1309 non-null   int64  \n",
            " 7   Parch          1309 non-null   int64  \n",
            " 8   Ticket         1309 non-null   object \n",
            " 9   Fare           1309 non-null   float64\n",
            " 10  Cabin          1309 non-null   object \n",
            " 11  Embarked_C     1309 non-null   bool   \n",
            " 12  Embarked_Q     1309 non-null   bool   \n",
            " 13  Embarked_S     1309 non-null   bool   \n",
            " 14  Title          1309 non-null   object \n",
            " 15  Title_Master   1309 non-null   bool   \n",
            " 16  Title_Miss     1309 non-null   bool   \n",
            " 17  Title_Mr       1309 non-null   bool   \n",
            " 18  Title_Mrs      1309 non-null   bool   \n",
            " 19  Title_Officer  1309 non-null   bool   \n",
            " 20  Title_Royalty  1309 non-null   bool   \n",
            " 21  Cabin_A        1309 non-null   bool   \n",
            " 22  Cabin_B        1309 non-null   bool   \n",
            " 23  Cabin_C        1309 non-null   bool   \n",
            " 24  Cabin_D        1309 non-null   bool   \n",
            " 25  Cabin_E        1309 non-null   bool   \n",
            " 26  Cabin_F        1309 non-null   bool   \n",
            " 27  Cabin_G        1309 non-null   bool   \n",
            " 28  Cabin_T        1309 non-null   bool   \n",
            " 29  Cabin_U        1309 non-null   bool   \n",
            "dtypes: bool(18), float64(3), int64(4), object(5)\n",
            "memory usage: 145.9+ KB\n"
          ]
        }
      ]
    },
    {
      "cell_type": "markdown",
      "source": [
        "###特徴量エンジニアリング\n",
        "Ticketをグループ化\n",
        "\n",
        "Family -> SibSp + Parch +1 ->グループ化\n",
        "\n",
        "IsAlone ->一人かどうかでグループ化"
      ],
      "metadata": {
        "id": "J0oMsgIBwl9A"
      }
    },
    {
      "cell_type": "code",
      "source": [
        "#Ticket統計\n",
        "Ticket_counts = dict(df_concat['Ticket'].value_counts())\n",
        "df_concat['TicketGroup'] = df_concat['Ticket'].map(Ticket_counts)\n",
        "# sns.barplot(x='TicketGroup', y='Perished', data=df_concat, palette='Set3')\n",
        "df_concat.loc[(df_concat['TicketGroup'] >= 2) & (df_concat['TicketGroup'] <= 4), 'Ticket_label'] = 2\n",
        "df_concat.loc[(df_concat['TicketGroup'] >= 5) & (df_concat['TicketGroup'] <= 8) | (df_concat['TicketGroup']==1), 'Ticket_label'] = 1\n",
        "df_concat.loc[(df_concat['TicketGroup'] >=11), 'Ticket_label'] = 0\n",
        "df_concat.drop(['TicketGroup','Ticket'], axis=1, inplace=True)\n",
        "\n",
        "#Family変数の追加 + グルーピング\n",
        "#https://qiita.com/jun40vn/items/d8a1f71fae680589e05c\n",
        "df_concat['Family'] = df_concat['SibSp'] + df_concat['Parch'] + 1\n",
        "df_concat.loc[(df_concat['Family'] >= 2) & (df_concat['Family'] <= 4), 'Family_label'] = 2\n",
        "df_concat.loc[(df_concat['Family'] >= 5) & (df_concat['Family'] <= 7) | (df_concat['Family']==1), 'Family_label'] = 1\n",
        "df_concat.loc[(df_concat['Family'] >= 8), 'Family_label'] = 0\n",
        "\n",
        "#一人かそれ以外かでグループ化\n",
        "# df_concat['IsAlone'] = (df_concat['Family'] == 1).astype(int)\n",
        "df_concat.drop(['Family','SibSp','Parch'], axis=1, inplace=True)\n",
        "df_concat.info()"
      ],
      "metadata": {
        "colab": {
          "base_uri": "https://localhost:8080/"
        },
        "id": "e0JKrxiEuUNJ",
        "outputId": "036ee608-d3e2-4709-c0c0-764a78f96fa9"
      },
      "execution_count": 21,
      "outputs": [
        {
          "output_type": "stream",
          "name": "stdout",
          "text": [
            "<class 'pandas.core.frame.DataFrame'>\n",
            "RangeIndex: 1309 entries, 0 to 1308\n",
            "Data columns (total 29 columns):\n",
            " #   Column         Non-Null Count  Dtype  \n",
            "---  ------         --------------  -----  \n",
            " 0   PassengerId    1309 non-null   int64  \n",
            " 1   Perished       891 non-null    float64\n",
            " 2   Pclass         1309 non-null   int64  \n",
            " 3   Name           1309 non-null   object \n",
            " 4   Sex            1309 non-null   object \n",
            " 5   Age            1309 non-null   float64\n",
            " 6   Fare           1309 non-null   float64\n",
            " 7   Cabin          1309 non-null   object \n",
            " 8   Embarked_C     1309 non-null   bool   \n",
            " 9   Embarked_Q     1309 non-null   bool   \n",
            " 10  Embarked_S     1309 non-null   bool   \n",
            " 11  Title          1309 non-null   object \n",
            " 12  Title_Master   1309 non-null   bool   \n",
            " 13  Title_Miss     1309 non-null   bool   \n",
            " 14  Title_Mr       1309 non-null   bool   \n",
            " 15  Title_Mrs      1309 non-null   bool   \n",
            " 16  Title_Officer  1309 non-null   bool   \n",
            " 17  Title_Royalty  1309 non-null   bool   \n",
            " 18  Cabin_A        1309 non-null   bool   \n",
            " 19  Cabin_B        1309 non-null   bool   \n",
            " 20  Cabin_C        1309 non-null   bool   \n",
            " 21  Cabin_D        1309 non-null   bool   \n",
            " 22  Cabin_E        1309 non-null   bool   \n",
            " 23  Cabin_F        1309 non-null   bool   \n",
            " 24  Cabin_G        1309 non-null   bool   \n",
            " 25  Cabin_T        1309 non-null   bool   \n",
            " 26  Cabin_U        1309 non-null   bool   \n",
            " 27  Ticket_label   1309 non-null   float64\n",
            " 28  Family_label   1309 non-null   float64\n",
            "dtypes: bool(18), float64(5), int64(2), object(4)\n",
            "memory usage: 135.6+ KB\n"
          ]
        }
      ]
    },
    {
      "cell_type": "markdown",
      "source": [
        "###Fareのスケーリング"
      ],
      "metadata": {
        "id": "izdaQn46Xvlq"
      }
    },
    {
      "cell_type": "code",
      "source": [
        "# prompt: Fareの分布を見たい\n",
        "df_concat['Fare_log'] = np.log1p(df_concat['Fare'])\n",
        "\n",
        "import matplotlib.pyplot as plt\n",
        "sns.histplot(df_concat['Fare_log'], bins=30, kde=True)\n",
        "plt.title('Distribution of Fare')\n",
        "plt.xlabel('Fare')\n",
        "plt.ylabel('Frequency')\n",
        "plt.show()"
      ],
      "metadata": {
        "colab": {
          "base_uri": "https://localhost:8080/",
          "height": 472
        },
        "id": "O-j5kbh7g9Wf",
        "outputId": "b4af35f0-a5f0-4ca5-bf9d-90786a1bcb0f"
      },
      "execution_count": 22,
      "outputs": [
        {
          "output_type": "display_data",
          "data": {
            "text/plain": [
              "<Figure size 640x480 with 1 Axes>"
            ],
            "image/png": "[encoded data removed]"
          },
          "metadata": {}
        }
      ]
    },
    {
      "cell_type": "markdown",
      "source": [
        "###エンコーディング\n",
        "\n",
        "Sex ->onehot\n",
        "\n",
        "Embarked -> onehot\n",
        "\n"
      ],
      "metadata": {
        "id": "lh2AaI1byD4L"
      }
    },
    {
      "cell_type": "code",
      "source": [
        "# Sex\n",
        "Sex = df_concat['Sex']\n",
        "Sex_ohe = pd.get_dummies(Sex,prefix='Sex')\n",
        "\n",
        "# Embarked\n",
        "# Embarked = df_concat['Embarked']\n",
        "# Embarked_ohe = pd.get_dummies(Embarked,prefix='Embarked')\n",
        "\n",
        "df_concat = pd.concat([df_concat, Sex_ohe], axis=1)\n",
        "df_concat.info()"
      ],
      "metadata": {
        "colab": {
          "base_uri": "https://localhost:8080/"
        },
        "id": "7Or9ZdPOxtqz",
        "outputId": "85d98926-fc65-47dd-960a-932c8bd98e78"
      },
      "execution_count": 23,
      "outputs": [
        {
          "output_type": "stream",
          "name": "stdout",
          "text": [
            "<class 'pandas.core.frame.DataFrame'>\n",
            "RangeIndex: 1309 entries, 0 to 1308\n",
            "Data columns (total 32 columns):\n",
            " #   Column         Non-Null Count  Dtype  \n",
            "---  ------         --------------  -----  \n",
            " 0   PassengerId    1309 non-null   int64  \n",
            " 1   Perished       891 non-null    float64\n",
            " 2   Pclass         1309 non-null   int64  \n",
            " 3   Name           1309 non-null   object \n",
            " 4   Sex            1309 non-null   object \n",
            " 5   Age            1309 non-null   float64\n",
            " 6   Fare           1309 non-null   float64\n",
            " 7   Cabin          1309 non-null   object \n",
            " 8   Embarked_C     1309 non-null   bool   \n",
            " 9   Embarked_Q     1309 non-null   bool   \n",
            " 10  Embarked_S     1309 non-null   bool   \n",
            " 11  Title          1309 non-null   object \n",
            " 12  Title_Master   1309 non-null   bool   \n",
            " 13  Title_Miss     1309 non-null   bool   \n",
            " 14  Title_Mr       1309 non-null   bool   \n",
            " 15  Title_Mrs      1309 non-null   bool   \n",
            " 16  Title_Officer  1309 non-null   bool   \n",
            " 17  Title_Royalty  1309 non-null   bool   \n",
            " 18  Cabin_A        1309 non-null   bool   \n",
            " 19  Cabin_B        1309 non-null   bool   \n",
            " 20  Cabin_C        1309 non-null   bool   \n",
            " 21  Cabin_D        1309 non-null   bool   \n",
            " 22  Cabin_E        1309 non-null   bool   \n",
            " 23  Cabin_F        1309 non-null   bool   \n",
            " 24  Cabin_G        1309 non-null   bool   \n",
            " 25  Cabin_T        1309 non-null   bool   \n",
            " 26  Cabin_U        1309 non-null   bool   \n",
            " 27  Ticket_label   1309 non-null   float64\n",
            " 28  Family_label   1309 non-null   float64\n",
            " 29  Fare_log       1309 non-null   float64\n",
            " 30  Sex_female     1309 non-null   bool   \n",
            " 31  Sex_male       1309 non-null   bool   \n",
            "dtypes: bool(20), float64(6), int64(2), object(4)\n",
            "memory usage: 148.4+ KB\n"
          ]
        }
      ]
    },
    {
      "cell_type": "code",
      "source": [
        "# Name, Sex, Cabin, Embarked, Titleドロップ\n",
        "df_concat.drop(['Name', 'Sex', 'Cabin', 'Title'], axis=1, inplace=True)\n",
        "df_concat.info()"
      ],
      "metadata": {
        "colab": {
          "base_uri": "https://localhost:8080/"
        },
        "id": "yLiWBECty5As",
        "outputId": "1047e281-e0df-4a79-c2d2-5089efb7deb5"
      },
      "execution_count": 24,
      "outputs": [
        {
          "output_type": "stream",
          "name": "stdout",
          "text": [
            "<class 'pandas.core.frame.DataFrame'>\n",
            "RangeIndex: 1309 entries, 0 to 1308\n",
            "Data columns (total 28 columns):\n",
            " #   Column         Non-Null Count  Dtype  \n",
            "---  ------         --------------  -----  \n",
            " 0   PassengerId    1309 non-null   int64  \n",
            " 1   Perished       891 non-null    float64\n",
            " 2   Pclass         1309 non-null   int64  \n",
            " 3   Age            1309 non-null   float64\n",
            " 4   Fare           1309 non-null   float64\n",
            " 5   Embarked_C     1309 non-null   bool   \n",
            " 6   Embarked_Q     1309 non-null   bool   \n",
            " 7   Embarked_S     1309 non-null   bool   \n",
            " 8   Title_Master   1309 non-null   bool   \n",
            " 9   Title_Miss     1309 non-null   bool   \n",
            " 10  Title_Mr       1309 non-null   bool   \n",
            " 11  Title_Mrs      1309 non-null   bool   \n",
            " 12  Title_Officer  1309 non-null   bool   \n",
            " 13  Title_Royalty  1309 non-null   bool   \n",
            " 14  Cabin_A        1309 non-null   bool   \n",
            " 15  Cabin_B        1309 non-null   bool   \n",
            " 16  Cabin_C        1309 non-null   bool   \n",
            " 17  Cabin_D        1309 non-null   bool   \n",
            " 18  Cabin_E        1309 non-null   bool   \n",
            " 19  Cabin_F        1309 non-null   bool   \n",
            " 20  Cabin_G        1309 non-null   bool   \n",
            " 21  Cabin_T        1309 non-null   bool   \n",
            " 22  Cabin_U        1309 non-null   bool   \n",
            " 23  Ticket_label   1309 non-null   float64\n",
            " 24  Family_label   1309 non-null   float64\n",
            " 25  Fare_log       1309 non-null   float64\n",
            " 26  Sex_female     1309 non-null   bool   \n",
            " 27  Sex_male       1309 non-null   bool   \n",
            "dtypes: bool(20), float64(6), int64(2)\n",
            "memory usage: 107.5 KB\n"
          ]
        }
      ]
    },
    {
      "cell_type": "markdown",
      "source": [
        "###多重共線性チェック"
      ],
      "metadata": {
        "id": "38FpDb1OacAm"
      }
    },
    {
      "cell_type": "code",
      "source": [
        "df = df_concat[:891]\n",
        "df_test = df_concat[891:]\n",
        "X = df.drop(['PassengerId', 'Perished'], axis=1).values\n",
        "y = df['Perished'].values\n",
        "X_test = df_test.drop(['PassengerId', 'Perished',], axis=1).values\n",
        "\n",
        "X_train, X_valid, y_train, y_valid = train_test_split(X, y, test_size=0.1, random_state=42)\n",
        "print(X.shape, y.shape)"
      ],
      "metadata": {
        "colab": {
          "base_uri": "https://localhost:8080/"
        },
        "id": "RRsZOMXtzMnJ",
        "outputId": "203499ce-3a3a-4643-fadc-2b370da31272"
      },
      "execution_count": 26,
      "outputs": [
        {
          "output_type": "stream",
          "name": "stdout",
          "text": [
            "(891, 25) (891,)\n"
          ]
        }
      ]
    },
    {
      "cell_type": "code",
      "source": [
        "# prompt: lightGBMを使って、重要度を横棒グラフで算出\n",
        "\n",
        "import pandas as pd\n",
        "import matplotlib.pyplot as plt\n",
        "!pip install lightgbm\n",
        "import lightgbm as lgb\n",
        "lgb_clf = lgb.LGBMClassifier(random_state=42)\n",
        "lgb_clf.fit(X_train, y_train)\n",
        "# 特徴量の重要度を取得\n",
        "feature_importances = pd.DataFrame({\n",
        "    'feature': df.drop(['PassengerId', 'Perished'], axis=1).columns,\n",
        "    'importance': lgb_clf.feature_importances_\n",
        "})\n",
        "# 重要度で降順にソート\n",
        "feature_importances = feature_importances.sort_values('importance', ascending=False)\n",
        "# 横棒グラフで表示\n",
        "plt.figure(figsize=(10, 8))\n",
        "sns.barplot(x='importance', y='feature', data=feature_importances)\n",
        "plt.title('LightGBM Feature Importances')\n",
        "plt.xlabel('Importance')\n",
        "plt.ylabel('Feature')\n",
        "plt.show()"
      ],
      "metadata": {
        "colab": {
          "base_uri": "https://localhost:8080/",
          "height": 1000
        },
        "id": "doCo7Oqo95yS",
        "outputId": "b440d5e7-fd41-41e6-b78f-c082e8a24517"
      },
      "execution_count": 27,
      "outputs": [
        {
          "output_type": "stream",
          "name": "stdout",
          "text": [
            "Requirement already satisfied: lightgbm in /usr/local/lib/python3.11/dist-packages (4.5.0)\n",
            "Requirement already satisfied: numpy>=1.17.0 in /usr/local/lib/python3.11/dist-packages (from lightgbm) (2.0.2)\n",
            "Requirement already satisfied: scipy in /usr/local/lib/python3.11/dist-packages (from lightgbm) (1.15.3)\n",
            "[LightGBM] [Info] Number of positive: 495, number of negative: 306\n",
            "[LightGBM] [Info] Auto-choosing row-wise multi-threading, the overhead of testing was 0.000855 seconds.\n",
            "You can set `force_row_wise=true` to remove the overhead.\n",
            "And if memory is not enough, you can set `force_col_wise=true`.\n",
            "[LightGBM] [Info] Total Bins 246\n",
            "[LightGBM] [Info] Number of data points in the train set: 801, number of used features: 19\n",
            "[LightGBM] [Info] [binary:BoostFromScore]: pavg=0.617978 -> initscore=0.480973\n",
            "[LightGBM] [Info] Start training from score 0.480973\n",
            "[LightGBM] [Warning] No further splits with positive gain, best gain: -inf\n",
            "[LightGBM] [Warning] No further splits with positive gain, best gain: -inf\n",
            "[LightGBM] [Warning] No further splits with positive gain, best gain: -inf\n",
            "[LightGBM] [Warning] No further splits with positive gain, best gain: -inf\n",
            "[LightGBM] [Warning] No further splits with positive gain, best gain: -inf\n",
            "[LightGBM] [Warning] No further splits with positive gain, best gain: -inf\n",
            "[LightGBM] [Warning] No further splits with positive gain, best gain: -inf\n",
            "[LightGBM] [Warning] No further splits with positive gain, best gain: -inf\n",
            "[LightGBM] [Warning] No further splits with positive gain, best gain: -inf\n",
            "[LightGBM] [Warning] No further splits with positive gain, best gain: -inf\n",
            "[LightGBM] [Warning] No further splits with positive gain, best gain: -inf\n",
            "[LightGBM] [Warning] No further splits with positive gain, best gain: -inf\n",
            "[LightGBM] [Warning] No further splits with positive gain, best gain: -inf\n",
            "[LightGBM] [Warning] No further splits with positive gain, best gain: -inf\n",
            "[LightGBM] [Warning] No further splits with positive gain, best gain: -inf\n",
            "[LightGBM] [Warning] No further splits with positive gain, best gain: -inf\n",
            "[LightGBM] [Warning] No further splits with positive gain, best gain: -inf\n",
            "[LightGBM] [Warning] No further splits with positive gain, best gain: -inf\n",
            "[LightGBM] [Warning] No further splits with positive gain, best gain: -inf\n",
            "[LightGBM] [Warning] No further splits with positive gain, best gain: -inf\n",
            "[LightGBM] [Warning] No further splits with positive gain, best gain: -inf\n",
            "[LightGBM] [Warning] No further splits with positive gain, best gain: -inf\n",
            "[LightGBM] [Warning] No further splits with positive gain, best gain: -inf\n",
            "[LightGBM] [Warning] No further splits with positive gain, best gain: -inf\n",
            "[LightGBM] [Warning] No further splits with positive gain, best gain: -inf\n",
            "[LightGBM] [Warning] No further splits with positive gain, best gain: -inf\n",
            "[LightGBM] [Warning] No further splits with positive gain, best gain: -inf\n",
            "[LightGBM] [Warning] No further splits with positive gain, best gain: -inf\n",
            "[LightGBM] [Warning] No further splits with positive gain, best gain: -inf\n",
            "[LightGBM] [Warning] No further splits with positive gain, best gain: -inf\n",
            "[LightGBM] [Warning] No further splits with positive gain, best gain: -inf\n",
            "[LightGBM] [Warning] No further splits with positive gain, best gain: -inf\n"
          ]
        },
        {
          "output_type": "display_data",
          "data": {
            "text/plain": [
              "<Figure size 1000x800 with 1 Axes>"
            ],
            "image/png": "[encoded data removed]"
          },
          "metadata": {}
        }
      ]
    },
    {
      "cell_type": "code",
      "source": [
        "rf_find = RandomForestClassifier(random_state=42, n_jobs=-1)\n",
        "param_grid = {\n",
        "    'n_estimators': [100, 300,500],\n",
        "    'max_depth': [None],\n",
        "    'min_samples_split': [2, 3, 10],\n",
        "    'min_samples_leaf': [3, 10]\n",
        "}\n",
        "\n",
        "grid_rf = GridSearchCV(rf_find, param_grid, cv=5, scoring='accuracy')\n",
        "grid_rf.fit(X, y)\n",
        "\n",
        "print(\"Best parameters: \", grid_rf.best_params_)\n",
        "print('CV Score: ', grid_rf.best_score_)"
      ],
      "metadata": {
        "colab": {
          "base_uri": "https://localhost:8080/"
        },
        "id": "Jvf1xrgazmfS",
        "outputId": "985a1bcc-5ae2-4ed7-9382-056321e8c68c"
      },
      "execution_count": 28,
      "outputs": [
        {
          "output_type": "stream",
          "name": "stdout",
          "text": [
            "Best parameters:  {'max_depth': None, 'min_samples_leaf': 3, 'min_samples_split': 2, 'n_estimators': 500}\n",
            "CV Score:  0.8338899001945892\n"
          ]
        }
      ]
    },
    {
      "cell_type": "code",
      "source": [
        "rf = RandomForestClassifier(\n",
        "    max_depth=None,n_estimators=500,min_samples_leaf=3,min_samples_split=2,\n",
        "    random_state=42, n_jobs=-1\n",
        ")\n",
        "\n",
        "# rf.fit(X_train, y_train)\n",
        "# print('Train Score: ', rf.score(X_train, y_train))\n",
        "# print('Valid Score: ', rf.score(X_valid, y_valid))\n",
        "# rf.fit(X, y)\n",
        "# 特徴量を20個に絞る\n",
        "from sklearn.feature_selection import SelectKBest\n",
        "from sklearn.pipeline import make_pipeline\n",
        "select = SelectKBest(k = 19)\n",
        "\n",
        "pipe = make_pipeline(select, rf)\n",
        "pipe.fit(X, y)\n",
        "\n",
        "\n",
        "print('Train Score: ', pipe.score(X_train, y_train))\n",
        "print('Valid Score: ', pipe.score(X_valid, y_valid))"
      ],
      "metadata": {
        "colab": {
          "base_uri": "https://localhost:8080/"
        },
        "id": "dzLyxpHyzrhq",
        "outputId": "6cc47634-2e67-4103-c464-ccb777bc2f19"
      },
      "execution_count": 34,
      "outputs": [
        {
          "output_type": "stream",
          "name": "stdout",
          "text": [
            "Train Score:  0.8826466916354557\n",
            "Valid Score:  0.9\n"
          ]
        }
      ]
    },
    {
      "cell_type": "code",
      "source": [
        "from sklearn.preprocessing import StandardScaler\n",
        "from sklearn.pipeline import Pipeline\n",
        "from sklearn.svm import SVC\n",
        "from sklearn.ensemble import VotingClassifier\n",
        "from sklearn.feature_selection import SelectKBest\n",
        "\n",
        "pipe_lr = Pipeline([\n",
        "    ('scaler', StandardScaler()),\n",
        "    ('select', SelectKBest(k = 28)),\n",
        "    ('lr', LogisticRegression())\n",
        "])\n",
        "\n",
        "pipe_rf = Pipeline([\n",
        "    ('scaler', StandardScaler()),\n",
        "    ('select', SelectKBest(k = 20)),\n",
        "    ('rf', RandomForestClassifier(random_state=42, n_jobs=-1))\n",
        "])\n",
        "\n",
        "pipe_svc = Pipeline([\n",
        "    ('scaler', StandardScaler()),\n",
        "    ('svc', SVC(probability=True))\n",
        "])\n",
        "\n",
        "emsemble = VotingClassifier(\n",
        "    estimators=[('lr', pipe_lr), ('rf', pipe_rf), ('svc', pipe_svc)],\n",
        "    voting='soft',\n",
        "    weights=[1, 1, 1]\n",
        ")\n",
        "\n",
        "emsemble.fit(X_train, y_train)\n",
        "print('Train Score: ', emsemble.score(X_train, y_train))\n",
        "print('Valid Score: ', emsemble.score(X_valid, y_valid))\n",
        "\n",
        "emsemble_pred = emsemble.predict_proba(X_test)\n",
        "pred = emsemble_pred.argmax(axis=1)\n",
        "pred.shape"
      ],
      "metadata": {
        "colab": {
          "base_uri": "https://localhost:8080/"
        },
        "id": "4e7vHZsvUiV3",
        "outputId": "07d0dab9-4e8e-46cf-d8c8-cdfc35aa2450"
      },
      "execution_count": 39,
      "outputs": [
        {
          "output_type": "stream",
          "name": "stdout",
          "text": [
            "Train Score:  0.8876404494382022\n",
            "Valid Score:  0.8111111111111111\n"
          ]
        },
        {
          "output_type": "execute_result",
          "data": {
            "text/plain": [
              "(418,)"
            ]
          },
          "metadata": {},
          "execution_count": 39
        }
      ]
    },
    {
      "cell_type": "code",
      "source": [
        "pipe_pred = pipe.predict_proba(X_test)\n",
        "pred = pipe_pred.argmax(axis=1)\n",
        "pred.shape"
      ],
      "metadata": {
        "colab": {
          "base_uri": "https://localhost:8080/"
        },
        "id": "ajTpJRBe0rhU",
        "outputId": "a1955bf8-a72f-4b6a-c504-8c01537a75f8"
      },
      "execution_count": 35,
      "outputs": [
        {
          "output_type": "execute_result",
          "data": {
            "text/plain": [
              "(418,)"
            ]
          },
          "metadata": {},
          "execution_count": 35
        }
      ]
    },
    {
      "cell_type": "code",
      "source": [
        "path = '/content/drive/My Drive/Colab Notebooks/GCI_2025_summer/Competitions/competition_1/'\n",
        "\n",
        "submission = pd.read_csv(path + 'gender_submission.csv')"
      ],
      "metadata": {
        "id": "nBw5WPDl1RQ0"
      },
      "execution_count": 40,
      "outputs": []
    },
    {
      "cell_type": "code",
      "source": [
        "submission['Perished'] = pred"
      ],
      "metadata": {
        "id": "QCDXSA-A1Sby"
      },
      "execution_count": 41,
      "outputs": []
    },
    {
      "cell_type": "markdown",
      "source": [
        "###結果"
      ],
      "metadata": {
        "id": "pEt5s1AK1Zgn"
      }
    },
    {
      "cell_type": "code",
      "source": [
        "test_augumented = pd.read_csv('/content/drive/MyDrive/Colab Notebooks/GCI_2025_summer/Competitions/competition_1/data/test_augmented.csv')\n",
        "test_augumented.rename(columns={'Survived': 'Perished'}, inplace=True)\n",
        "test_augumented['Perished'] = 1 - test_augumented['Perished']\n",
        "\n",
        "from sklearn.metrics import accuracy_score\n",
        "accuracy_score(submission['Perished'], test_augumented['Perished'])"
      ],
      "metadata": {
        "colab": {
          "base_uri": "https://localhost:8080/"
        },
        "id": "9wJVprCO1ehY",
        "outputId": "6610ceb2-182b-4345-b64a-b407674e284e"
      },
      "execution_count": 42,
      "outputs": [
        {
          "output_type": "execute_result",
          "data": {
            "text/plain": [
              "0.7822966507177034"
            ]
          },
          "metadata": {},
          "execution_count": 42
        }
      ]
    },
    {
      "cell_type": "code",
      "source": [
        "# JupyterLabなどローカルで作業する場合\n",
        "# パスは必要に応じて変更の必要あり\n",
        "submission.to_csv('/content/drive/My Drive/Colab Notebooks/GCI_2025_summer/Competitions/competition_1/submission_v13.csv', index=False)"
      ],
      "metadata": {
        "id": "1OEEOIxP_ZCK"
      },
      "execution_count": 43,
      "outputs": []
    },
    {
      "cell_type": "code",
      "source": [
        "# prompt: test_augumented(正解)の予測がはずれた部分の行を出力したい\n",
        "\n",
        "mismatched_predictions = submission[submission['Perished'] != test_augumented['Perished']]\n",
        "mismatched_predictions\n",
        "df2 = pd.read_csv('/content/drive/MyDrive/Colab Notebooks/GCI_2025_summer/Competitions/competition_1/data/test_augmented.csv')\n",
        "df2.loc[mismatched_predictions.index]"
      ],
      "metadata": {
        "colab": {
          "base_uri": "https://localhost:8080/",
          "height": 738
        },
        "id": "xEfSL5l_5AAQ",
        "outputId": "e7ca9f80-a2c1-44ea-cd37-d0ec771d8043"
      },
      "execution_count": null,
      "outputs": [
        {
          "output_type": "execute_result",
          "data": {
            "text/plain": [
              "     PassengerId  Pclass                                          Name  \\\n",
              "1            893       3              Wilkes, Mrs. James (Ellen Needs)   \n",
              "5            897       3                    Svensson, Mr. Johan Cervin   \n",
              "6            898       3                          Connolly, Miss. Kate   \n",
              "7            899       2                  Caldwell, Mr. Albert Francis   \n",
              "21           913       3                     Olsen, Master. Artur Karl   \n",
              "..           ...     ...                                           ...   \n",
              "394         1286       3                      Kink-Heilmann, Mr. Anton   \n",
              "404         1296       1                  Frauenthal, Mr. Isaac Gerald   \n",
              "405         1297       2  Nourney, Mr. Alfred (Baron von Drachstedt\")\"   \n",
              "409         1301       3                     Peacock, Miss. Treasteall   \n",
              "410         1302       3                        Naughton, Miss. Hannah   \n",
              "\n",
              "        Sex   Age  SibSp  Parch              Ticket     Fare Cabin Embarked  \\\n",
              "1    female  47.0      1      0              363272   7.0000   NaN        S   \n",
              "5      male  14.0      0      0                7538   9.2250   NaN        S   \n",
              "6    female  30.0      0      0              330972   7.6292   NaN        Q   \n",
              "7      male  26.0      1      1              248738  29.0000   NaN        S   \n",
              "21     male   9.0      0      1             C 17368   3.1708   NaN        S   \n",
              "..      ...   ...    ...    ...                 ...      ...   ...      ...   \n",
              "394    male  29.0      3      1              315153  22.0250   NaN        S   \n",
              "404    male  43.0      1      0               17765  27.7208   D40        C   \n",
              "405    male  20.0      0      0       SC/PARIS 2166  13.8625   D38        C   \n",
              "409  female   3.0      1      1  SOTON/O.Q. 3101315  13.7750   NaN        S   \n",
              "410  female   NaN      0      0              365237   7.7500   NaN        Q   \n",
              "\n",
              "     Survived  \n",
              "1           1  \n",
              "5           1  \n",
              "6           0  \n",
              "7           1  \n",
              "21          1  \n",
              "..        ...  \n",
              "394         1  \n",
              "404         1  \n",
              "405         1  \n",
              "409         0  \n",
              "410         0  \n",
              "\n",
              "[93 rows x 12 columns]"
            ],
            "text/html": [
              "\n",
              "  <div id=\"df-85ddbdc7-5742-416a-a9a2-435dac20033f\" class=\"colab-df-container\">\n",
              "    <div>\n",
              "<style scoped>\n",
              "    .dataframe tbody tr th:only-of-type {\n",
              "        vertical-align: middle;\n",
              "    }\n",
              "\n",
              "    .dataframe tbody tr th {\n",
              "        vertical-align: top;\n",
              "    }\n",
              "\n",
              "    .dataframe thead th {\n",
              "        text-align: right;\n",
              "    }\n",
              "</style>\n",
              "<table border=\"1\" class=\"dataframe\">\n",
              "  <thead>\n",
              "    <tr style=\"text-align: right;\">\n",
              "      <th></th>\n",
              "      <th>PassengerId</th>\n",
              "      <th>Pclass</th>\n",
              "      <th>Name</th>\n",
              "      <th>Sex</th>\n",
              "      <th>Age</th>\n",
              "      <th>SibSp</th>\n",
              "      <th>Parch</th>\n",
              "      <th>Ticket</th>\n",
              "      <th>Fare</th>\n",
              "      <th>Cabin</th>\n",
              "      <th>Embarked</th>\n",
              "      <th>Survived</th>\n",
              "    </tr>\n",
              "  </thead>\n",
              "  <tbody>\n",
              "    <tr>\n",
              "      <th>1</th>\n",
              "      <td>893</td>\n",
              "      <td>3</td>\n",
              "      <td>Wilkes, Mrs. James (Ellen Needs)</td>\n",
              "      <td>female</td>\n",
              "      <td>47.0</td>\n",
              "      <td>1</td>\n",
              "      <td>0</td>\n",
              "      <td>363272</td>\n",
              "      <td>7.0000</td>\n",
              "      <td>NaN</td>\n",
              "      <td>S</td>\n",
              "      <td>1</td>\n",
              "    </tr>\n",
              "    <tr>\n",
              "      <th>5</th>\n",
              "      <td>897</td>\n",
              "      <td>3</td>\n",
              "      <td>Svensson, Mr. Johan Cervin</td>\n",
              "      <td>male</td>\n",
              "      <td>14.0</td>\n",
              "      <td>0</td>\n",
              "      <td>0</td>\n",
              "      <td>7538</td>\n",
              "      <td>9.2250</td>\n",
              "      <td>NaN</td>\n",
              "      <td>S</td>\n",
              "      <td>1</td>\n",
              "    </tr>\n",
              "    <tr>\n",
              "      <th>6</th>\n",
              "      <td>898</td>\n",
              "      <td>3</td>\n",
              "      <td>Connolly, Miss. Kate</td>\n",
              "      <td>female</td>\n",
              "      <td>30.0</td>\n",
              "      <td>0</td>\n",
              "      <td>0</td>\n",
              "      <td>330972</td>\n",
              "      <td>7.6292</td>\n",
              "      <td>NaN</td>\n",
              "      <td>Q</td>\n",
              "      <td>0</td>\n",
              "    </tr>\n",
              "    <tr>\n",
              "      <th>7</th>\n",
              "      <td>899</td>\n",
              "      <td>2</td>\n",
              "      <td>Caldwell, Mr. Albert Francis</td>\n",
              "      <td>male</td>\n",
              "      <td>26.0</td>\n",
              "      <td>1</td>\n",
              "      <td>1</td>\n",
              "      <td>248738</td>\n",
              "      <td>29.0000</td>\n",
              "      <td>NaN</td>\n",
              "      <td>S</td>\n",
              "      <td>1</td>\n",
              "    </tr>\n",
              "    <tr>\n",
              "      <th>21</th>\n",
              "      <td>913</td>\n",
              "      <td>3</td>\n",
              "      <td>Olsen, Master. Artur Karl</td>\n",
              "      <td>male</td>\n",
              "      <td>9.0</td>\n",
              "      <td>0</td>\n",
              "      <td>1</td>\n",
              "      <td>C 17368</td>\n",
              "      <td>3.1708</td>\n",
              "      <td>NaN</td>\n",
              "      <td>S</td>\n",
              "      <td>1</td>\n",
              "    </tr>\n",
              "    <tr>\n",
              "      <th>...</th>\n",
              "      <td>...</td>\n",
              "      <td>...</td>\n",
              "      <td>...</td>\n",
              "      <td>...</td>\n",
              "      <td>...</td>\n",
              "      <td>...</td>\n",
              "      <td>...</td>\n",
              "      <td>...</td>\n",
              "      <td>...</td>\n",
              "      <td>...</td>\n",
              "      <td>...</td>\n",
              "      <td>...</td>\n",
              "    </tr>\n",
              "    <tr>\n",
              "      <th>394</th>\n",
              "      <td>1286</td>\n",
              "      <td>3</td>\n",
              "      <td>Kink-Heilmann, Mr. Anton</td>\n",
              "      <td>male</td>\n",
              "      <td>29.0</td>\n",
              "      <td>3</td>\n",
              "      <td>1</td>\n",
              "      <td>315153</td>\n",
              "      <td>22.0250</td>\n",
              "      <td>NaN</td>\n",
              "      <td>S</td>\n",
              "      <td>1</td>\n",
              "    </tr>\n",
              "    <tr>\n",
              "      <th>404</th>\n",
              "      <td>1296</td>\n",
              "      <td>1</td>\n",
              "      <td>Frauenthal, Mr. Isaac Gerald</td>\n",
              "      <td>male</td>\n",
              "      <td>43.0</td>\n",
              "      <td>1</td>\n",
              "      <td>0</td>\n",
              "      <td>17765</td>\n",
              "      <td>27.7208</td>\n",
              "      <td>D40</td>\n",
              "      <td>C</td>\n",
              "      <td>1</td>\n",
              "    </tr>\n",
              "    <tr>\n",
              "      <th>405</th>\n",
              "      <td>1297</td>\n",
              "      <td>2</td>\n",
              "      <td>Nourney, Mr. Alfred (Baron von Drachstedt\")\"</td>\n",
              "      <td>male</td>\n",
              "      <td>20.0</td>\n",
              "      <td>0</td>\n",
              "      <td>0</td>\n",
              "      <td>SC/PARIS 2166</td>\n",
              "      <td>13.8625</td>\n",
              "      <td>D38</td>\n",
              "      <td>C</td>\n",
              "      <td>1</td>\n",
              "    </tr>\n",
              "    <tr>\n",
              "      <th>409</th>\n",
              "      <td>1301</td>\n",
              "      <td>3</td>\n",
              "      <td>Peacock, Miss. Treasteall</td>\n",
              "      <td>female</td>\n",
              "      <td>3.0</td>\n",
              "      <td>1</td>\n",
              "      <td>1</td>\n",
              "      <td>SOTON/O.Q. 3101315</td>\n",
              "      <td>13.7750</td>\n",
              "      <td>NaN</td>\n",
              "      <td>S</td>\n",
              "      <td>0</td>\n",
              "    </tr>\n",
              "    <tr>\n",
              "      <th>410</th>\n",
              "      <td>1302</td>\n",
              "      <td>3</td>\n",
              "      <td>Naughton, Miss. Hannah</td>\n",
              "      <td>female</td>\n",
              "      <td>NaN</td>\n",
              "      <td>0</td>\n",
              "      <td>0</td>\n",
              "      <td>365237</td>\n",
              "      <td>7.7500</td>\n",
              "      <td>NaN</td>\n",
              "      <td>Q</td>\n",
              "      <td>0</td>\n",
              "    </tr>\n",
              "  </tbody>\n",
              "</table>\n",
              "<p>93 rows × 12 columns</p>\n",
              "</div>\n",
              "    <div class=\"colab-df-buttons\">\n",
              "\n",
              "  <div class=\"colab-df-container\">\n",
              "    <button class=\"colab-df-convert\" onclick=\"convertToInteractive('df-85ddbdc7-5742-416a-a9a2-435dac20033f')\"\n",
              "            title=\"Convert this dataframe to an interactive table.\"\n",
              "            style=\"display:none;\">\n",
              "\n",
              "  <svg xmlns=\"http://www.w3.org/2000/svg\" height=\"24px\" viewBox=\"0 -960 960 960\">\n",
              "    <path d=\"M120-120v-720h720v720H120Zm60-500h600v-160H180v160Zm220 220h160v-160H400v160Zm0 220h160v-160H400v160ZM180-400h160v-160H180v160Zm440 0h160v-160H620v160ZM180-180h160v-160H180v160Zm440 0h160v-160H620v160Z\"/>\n",
              "  </svg>\n",
              "    </button>\n",
              "\n",
              "  <style>\n",
              "    .colab-df-container {\n",
              "      display:flex;\n",
              "      gap: 12px;\n",
              "    }\n",
              "\n",
              "    .colab-df-convert {\n",
              "      background-color: #E8F0FE;\n",
              "      border: none;\n",
              "      border-radius: 50%;\n",
              "      cursor: pointer;\n",
              "      display: none;\n",
              "      fill: #1967D2;\n",
              "      height: 32px;\n",
              "      padding: 0 0 0 0;\n",
              "      width: 32px;\n",
              "    }\n",
              "\n",
              "    .colab-df-convert:hover {\n",
              "      background-color: #E2EBFA;\n",
              "      box-shadow: 0px 1px 2px rgba(60, 64, 67, 0.3), 0px 1px 3px 1px rgba(60, 64, 67, 0.15);\n",
              "      fill: #174EA6;\n",
              "    }\n",
              "\n",
              "    .colab-df-buttons div {\n",
              "      margin-bottom: 4px;\n",
              "    }\n",
              "\n",
              "    [theme=dark] .colab-df-convert {\n",
              "      background-color: #3B4455;\n",
              "      fill: #D2E3FC;\n",
              "    }\n",
              "\n",
              "    [theme=dark] .colab-df-convert:hover {\n",
              "      background-color: #434B5C;\n",
              "      box-shadow: 0px 1px 3px 1px rgba(0, 0, 0, 0.15);\n",
              "      filter: drop-shadow(0px 1px 2px rgba(0, 0, 0, 0.3));\n",
              "      fill: #FFFFFF;\n",
              "    }\n",
              "  </style>\n",
              "\n",
              "    <script>\n",
              "      const buttonEl =\n",
              "        document.querySelector('#df-85ddbdc7-5742-416a-a9a2-435dac20033f button.colab-df-convert');\n",
              "      buttonEl.style.display =\n",
              "        google.colab.kernel.accessAllowed ? 'block' : 'none';\n",
              "\n",
              "      async function convertToInteractive(key) {\n",
              "        const element = document.querySelector('#df-85ddbdc7-5742-416a-a9a2-435dac20033f');\n",
              "        const dataTable =\n",
              "          await google.colab.kernel.invokeFunction('convertToInteractive',\n",
              "                                                    [key], {});\n",
              "        if (!dataTable) return;\n",
              "\n",
              "        const docLinkHtml = 'Like what you see? Visit the ' +\n",
              "          '<a target=\"_blank\" href=https://colab.research.google.com/notebooks/data_table.ipynb>data table notebook</a>'\n",
              "          + ' to learn more about interactive tables.';\n",
              "        element.innerHTML = '';\n",
              "        dataTable['output_type'] = 'display_data';\n",
              "        await google.colab.output.renderOutput(dataTable, element);\n",
              "        const docLink = document.createElement('div');\n",
              "        docLink.innerHTML = docLinkHtml;\n",
              "        element.appendChild(docLink);\n",
              "      }\n",
              "    </script>\n",
              "  </div>\n",
              "\n",
              "\n",
              "    <div id=\"df-a4127529-8809-45b2-9c73-4c9c7fec13c7\">\n",
              "      <button class=\"colab-df-quickchart\" onclick=\"quickchart('df-a4127529-8809-45b2-9c73-4c9c7fec13c7')\"\n",
              "                title=\"Suggest charts\"\n",
              "                style=\"display:none;\">\n",
              "\n",
              "<svg xmlns=\"http://www.w3.org/2000/svg\" height=\"24px\"viewBox=\"0 0 24 24\"\n",
              "     width=\"24px\">\n",
              "    <g>\n",
              "        <path d=\"M19 3H5c-1.1 0-2 .9-2 2v14c0 1.1.9 2 2 2h14c1.1 0 2-.9 2-2V5c0-1.1-.9-2-2-2zM9 17H7v-7h2v7zm4 0h-2V7h2v10zm4 0h-2v-4h2v4z\"/>\n",
              "    </g>\n",
              "</svg>\n",
              "      </button>\n",
              "\n",
              "<style>\n",
              "  .colab-df-quickchart {\n",
              "      --bg-color: #E8F0FE;\n",
              "      --fill-color: #1967D2;\n",
              "      --hover-bg-color: #E2EBFA;\n",
              "      --hover-fill-color: #174EA6;\n",
              "      --disabled-fill-color: #AAA;\n",
              "      --disabled-bg-color: #DDD;\n",
              "  }\n",
              "\n",
              "  [theme=dark] .colab-df-quickchart {\n",
              "      --bg-color: #3B4455;\n",
              "      --fill-color: #D2E3FC;\n",
              "      --hover-bg-color: #434B5C;\n",
              "      --hover-fill-color: #FFFFFF;\n",
              "      --disabled-bg-color: #3B4455;\n",
              "      --disabled-fill-color: #666;\n",
              "  }\n",
              "\n",
              "  .colab-df-quickchart {\n",
              "    background-color: var(--bg-color);\n",
              "    border: none;\n",
              "    border-radius: 50%;\n",
              "    cursor: pointer;\n",
              "    display: none;\n",
              "    fill: var(--fill-color);\n",
              "    height: 32px;\n",
              "    padding: 0;\n",
              "    width: 32px;\n",
              "  }\n",
              "\n",
              "  .colab-df-quickchart:hover {\n",
              "    background-color: var(--hover-bg-color);\n",
              "    box-shadow: 0 1px 2px rgba(60, 64, 67, 0.3), 0 1px 3px 1px rgba(60, 64, 67, 0.15);\n",
              "    fill: var(--button-hover-fill-color);\n",
              "  }\n",
              "\n",
              "  .colab-df-quickchart-complete:disabled,\n",
              "  .colab-df-quickchart-complete:disabled:hover {\n",
              "    background-color: var(--disabled-bg-color);\n",
              "    fill: var(--disabled-fill-color);\n",
              "    box-shadow: none;\n",
              "  }\n",
              "\n",
              "  .colab-df-spinner {\n",
              "    border: 2px solid var(--fill-color);\n",
              "    border-color: transparent;\n",
              "    border-bottom-color: var(--fill-color);\n",
              "    animation:\n",
              "      spin 1s steps(1) infinite;\n",
              "  }\n",
              "\n",
              "  @keyframes spin {\n",
              "    0% {\n",
              "      border-color: transparent;\n",
              "      border-bottom-color: var(--fill-color);\n",
              "      border-left-color: var(--fill-color);\n",
              "    }\n",
              "    20% {\n",
              "      border-color: transparent;\n",
              "      border-left-color: var(--fill-color);\n",
              "      border-top-color: var(--fill-color);\n",
              "    }\n",
              "    30% {\n",
              "      border-color: transparent;\n",
              "      border-left-color: var(--fill-color);\n",
              "      border-top-color: var(--fill-color);\n",
              "      border-right-color: var(--fill-color);\n",
              "    }\n",
              "    40% {\n",
              "      border-color: transparent;\n",
              "      border-right-color: var(--fill-color);\n",
              "      border-top-color: var(--fill-color);\n",
              "    }\n",
              "    60% {\n",
              "      border-color: transparent;\n",
              "      border-right-color: var(--fill-color);\n",
              "    }\n",
              "    80% {\n",
              "      border-color: transparent;\n",
              "      border-right-color: var(--fill-color);\n",
              "      border-bottom-color: var(--fill-color);\n",
              "    }\n",
              "    90% {\n",
              "      border-color: transparent;\n",
              "      border-bottom-color: var(--fill-color);\n",
              "    }\n",
              "  }\n",
              "</style>\n",
              "\n",
              "      <script>\n",
              "        async function quickchart(key) {\n",
              "          const quickchartButtonEl =\n",
              "            document.querySelector('#' + key + ' button');\n",
              "          quickchartButtonEl.disabled = true;  // To prevent multiple clicks.\n",
              "          quickchartButtonEl.classList.add('colab-df-spinner');\n",
              "          try {\n",
              "            const charts = await google.colab.kernel.invokeFunction(\n",
              "                'suggestCharts', [key], {});\n",
              "          } catch (error) {\n",
              "            console.error('Error during call to suggestCharts:', error);\n",
              "          }\n",
              "          quickchartButtonEl.classList.remove('colab-df-spinner');\n",
              "          quickchartButtonEl.classList.add('colab-df-quickchart-complete');\n",
              "        }\n",
              "        (() => {\n",
              "          let quickchartButtonEl =\n",
              "            document.querySelector('#df-a4127529-8809-45b2-9c73-4c9c7fec13c7 button');\n",
              "          quickchartButtonEl.style.display =\n",
              "            google.colab.kernel.accessAllowed ? 'block' : 'none';\n",
              "        })();\n",
              "      </script>\n",
              "    </div>\n",
              "\n",
              "    </div>\n",
              "  </div>\n"
            ],
            "application/vnd.google.colaboratory.intrinsic+json": {
              "type": "dataframe",
              "summary": "{\n  \"name\": \"df2\",\n  \"rows\": 93,\n  \"fields\": [\n    {\n      \"column\": \"PassengerId\",\n      \"properties\": {\n        \"dtype\": \"number\",\n        \"std\": 118,\n        \"min\": 893,\n        \"max\": 1302,\n        \"num_unique_values\": 93,\n        \"samples\": [\n          1083,\n          987,\n          1136\n        ],\n        \"semantic_type\": \"\",\n        \"description\": \"\"\n      }\n    },\n    {\n      \"column\": \"Pclass\",\n      \"properties\": {\n        \"dtype\": \"number\",\n        \"std\": 0,\n        \"min\": 1,\n        \"max\": 3,\n        \"num_unique_values\": 3,\n        \"samples\": [\n          3,\n          2,\n          1\n        ],\n        \"semantic_type\": \"\",\n        \"description\": \"\"\n      }\n    },\n    {\n      \"column\": \"Name\",\n      \"properties\": {\n        \"dtype\": \"string\",\n        \"num_unique_values\": 93,\n        \"samples\": [\n          \"Salomon, Mr. Abraham L\",\n          \"Tenglin, Mr. Gunnar Isidor\",\n          \"Johnston, Master. William Arthur Willie\\\"\\\"\"\n        ],\n        \"semantic_type\": \"\",\n        \"description\": \"\"\n      }\n    },\n    {\n      \"column\": \"Sex\",\n      \"properties\": {\n        \"dtype\": \"category\",\n        \"num_unique_values\": 2,\n        \"samples\": [\n          \"male\",\n          \"female\"\n        ],\n        \"semantic_type\": \"\",\n        \"description\": \"\"\n      }\n    },\n    {\n      \"column\": \"Age\",\n      \"properties\": {\n        \"dtype\": \"number\",\n        \"std\": 13.711732909405795,\n        \"min\": 0.33,\n        \"max\": 63.0,\n        \"num_unique_values\": 40,\n        \"samples\": [\n          23.0,\n          63.0\n        ],\n        \"semantic_type\": \"\",\n        \"description\": \"\"\n      }\n    },\n    {\n      \"column\": \"SibSp\",\n      \"properties\": {\n        \"dtype\": \"number\",\n        \"std\": 0,\n        \"min\": 0,\n        \"max\": 3,\n        \"num_unique_values\": 3,\n        \"samples\": [\n          1,\n          0\n        ],\n        \"semantic_type\": \"\",\n        \"description\": \"\"\n      }\n    },\n    {\n      \"column\": \"Parch\",\n      \"properties\": {\n        \"dtype\": \"number\",\n        \"std\": 0,\n        \"min\": 0,\n        \"max\": 2,\n        \"num_unique_values\": 3,\n        \"samples\": [\n          0,\n          1\n        ],\n        \"semantic_type\": \"\",\n        \"description\": \"\"\n      }\n    },\n    {\n      \"column\": \"Ticket\",\n      \"properties\": {\n        \"dtype\": \"string\",\n        \"num_unique_values\": 87,\n        \"samples\": [\n          \"368402\",\n          \"363272\"\n        ],\n        \"semantic_type\": \"\",\n        \"description\": \"\"\n      }\n    },\n    {\n      \"column\": \"Fare\",\n      \"properties\": {\n        \"dtype\": \"number\",\n        \"std\": 29.453132281512275,\n        \"min\": 0.0,\n        \"max\": 221.7792,\n        \"num_unique_values\": 64,\n        \"samples\": [\n          7.225,\n          0.0\n        ],\n        \"semantic_type\": \"\",\n        \"description\": \"\"\n      }\n    },\n    {\n      \"column\": \"Cabin\",\n      \"properties\": {\n        \"dtype\": \"category\",\n        \"num_unique_values\": 16,\n        \"samples\": [\n          \"C78\",\n          \"A9\"\n        ],\n        \"semantic_type\": \"\",\n        \"description\": \"\"\n      }\n    },\n    {\n      \"column\": \"Embarked\",\n      \"properties\": {\n        \"dtype\": \"category\",\n        \"num_unique_values\": 3,\n        \"samples\": [\n          \"S\",\n          \"Q\"\n        ],\n        \"semantic_type\": \"\",\n        \"description\": \"\"\n      }\n    },\n    {\n      \"column\": \"Survived\",\n      \"properties\": {\n        \"dtype\": \"number\",\n        \"std\": 0,\n        \"min\": 0,\n        \"max\": 1,\n        \"num_unique_values\": 2,\n        \"samples\": [\n          0,\n          1\n        ],\n        \"semantic_type\": \"\",\n        \"description\": \"\"\n      }\n    }\n  ]\n}"
            }
          },
          "metadata": {},
          "execution_count": 32
        }
      ]
    },
    {
      "cell_type": "markdown",
      "source": [
        "###提出"
      ],
      "metadata": {
        "id": "iopRWuVX1qDs"
      }
    },
    {
      "cell_type": "code",
      "source": [
        "# JupyterLabなどローカルで作業する場合\n",
        "# パスは必要に応じて変更の必要あり\n",
        "submission.to_csv('/content/drive/My Drive/Colab Notebooks/GCI_2025_summer/Competitions/competition_1/submission_v11.csv', index=False)"
      ],
      "metadata": {
        "id": "nftGcX281prL"
      },
      "execution_count": null,
      "outputs": []
    }
  ]
}