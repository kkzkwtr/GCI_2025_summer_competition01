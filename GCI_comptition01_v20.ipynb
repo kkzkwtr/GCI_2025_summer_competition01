{
  "nbformat": 4,
  "nbformat_minor": 0,
  "metadata": {
    "colab": {
      "provenance": [],
      "authorship_tag": "ABX9TyOTZ/CzzXjh5WFNe/ThNn6h",
      "include_colab_link": true
    },
    "kernelspec": {
      "name": "python3",
      "display_name": "Python 3"
    },
    "language_info": {
      "name": "python"
    }
  },
  "cells": [
    {
      "cell_type": "markdown",
      "metadata": {
        "id": "view-in-github",
        "colab_type": "text"
      },
      "source": [
        "<a href=\"https://colab.research.google.com/github/kkzkwtr/GCI_2025_summer_competition01/blob/main/GCI_comptition01_v20.ipynb\" target=\"_parent\"><img src=\"https://colab.research.google.com/assets/colab-badge.svg\" alt=\"Open In Colab\"/></a>"
      ]
    },
    {
      "cell_type": "code",
      "execution_count": 1,
      "metadata": {
        "colab": {
          "base_uri": "https://localhost:8080/"
        },
        "id": "H5EQLfkSmRKO",
        "outputId": "bd021730-5fde-4156-9f5d-b4cc6dbc9a5e"
      },
      "outputs": [
        {
          "output_type": "stream",
          "name": "stdout",
          "text": [
            "Mounted at /content/drive\n"
          ]
        }
      ],
      "source": [
        "from google.colab import drive\n",
        "drive.mount('/content/drive')"
      ]
    },
    {
      "cell_type": "code",
      "source": [
        "import numpy as np\n",
        "import pandas as pd\n",
        "from pandas import DataFrame, Series\n",
        "import matplotlib.pyplot as plt\n",
        "import seaborn as sns\n",
        "\n",
        "from sklearn.model_selection import train_test_split, GridSearchCV\n",
        "from sklearn.ensemble import RandomForestClassifier\n",
        "from sklearn.linear_model import LogisticRegression\n",
        "from sklearn.neural_network import MLPClassifier\n",
        "\n",
        "import warnings\n",
        "warnings.filterwarnings('ignore')"
      ],
      "metadata": {
        "id": "9uFxXf92mXOS"
      },
      "execution_count": 2,
      "outputs": []
    },
    {
      "cell_type": "code",
      "source": [
        "path = \"/content/drive/My Drive/Colab Notebooks/GCI_2025_summer/Competitions/competition_1/\"\n",
        "\n",
        "df = pd.read_csv(path + 'data/train.csv')\n",
        "df_test = pd.read_csv(path + 'data/test.csv')\n",
        "\n",
        "#全結合データ\n",
        "df_concat = pd.concat([df,df_test],ignore_index=True)"
      ],
      "metadata": {
        "id": "QksqcLmhmYXe"
      },
      "execution_count": 3,
      "outputs": []
    },
    {
      "cell_type": "markdown",
      "source": [
        "###欠損値補完\n",
        "AgeはPclass, Sex, Parch, SibSp, Title(onehot)を説明変数としたランダムフォレストで補完する\n",
        "\n",
        "手順\n",
        "1. Nameから敬称(Title)を抽出し、Mr,Mrs,Miss,Master,Otherに分ける。\n",
        "2.Titleをone-hotエンコーディング\n",
        "3.ランダムフォレスト適応"
      ],
      "metadata": {
        "id": "6E-VxD4nmpBL"
      }
    },
    {
      "cell_type": "markdown",
      "source": [
        "###Embarked & Fareの欠損値補完\n",
        "カウント数が多いSで補完\n",
        "\n",
        "Fare: EmbarkedとPclassのメジアンで補完\n"
      ],
      "metadata": {
        "id": "EWmT_51XueL_"
      }
    },
    {
      "cell_type": "code",
      "source": [
        "df_concat['Embarked'].fillna('S',inplace=True)\n",
        "embarked = df_concat['Embarked']\n",
        "embarked_ohe = pd.get_dummies(embarked,prefix='Embarked')\n",
        "df_concat = pd.concat([df_concat, embarked_ohe], axis=1)\n",
        "fare = df_concat[(df_concat['Embarked'] == 'S') & (df_concat['Pclass'] == 3)]['Fare'].median()\n",
        "df_concat['Fare'].fillna(fare,inplace=True)\n",
        "df_concat.drop(['Embarked'], axis=1, inplace=True)\n",
        "df_concat.isnull().sum()"
      ],
      "metadata": {
        "colab": {
          "base_uri": "https://localhost:8080/",
          "height": 523
        },
        "id": "nc_A6PLmuS51",
        "outputId": "f9422369-efd5-4853-8dac-10b316eec1e7"
      },
      "execution_count": 4,
      "outputs": [
        {
          "output_type": "execute_result",
          "data": {
            "text/plain": [
              "PassengerId       0\n",
              "Perished        418\n",
              "Pclass            0\n",
              "Name              0\n",
              "Sex               0\n",
              "Age             263\n",
              "SibSp             0\n",
              "Parch             0\n",
              "Ticket            0\n",
              "Fare              0\n",
              "Cabin          1014\n",
              "Embarked_C        0\n",
              "Embarked_Q        0\n",
              "Embarked_S        0\n",
              "dtype: int64"
            ],
            "text/html": [
              "<div>\n",
              "<style scoped>\n",
              "    .dataframe tbody tr th:only-of-type {\n",
              "        vertical-align: middle;\n",
              "    }\n",
              "\n",
              "    .dataframe tbody tr th {\n",
              "        vertical-align: top;\n",
              "    }\n",
              "\n",
              "    .dataframe thead th {\n",
              "        text-align: right;\n",
              "    }\n",
              "</style>\n",
              "<table border=\"1\" class=\"dataframe\">\n",
              "  <thead>\n",
              "    <tr style=\"text-align: right;\">\n",
              "      <th></th>\n",
              "      <th>0</th>\n",
              "    </tr>\n",
              "  </thead>\n",
              "  <tbody>\n",
              "    <tr>\n",
              "      <th>PassengerId</th>\n",
              "      <td>0</td>\n",
              "    </tr>\n",
              "    <tr>\n",
              "      <th>Perished</th>\n",
              "      <td>418</td>\n",
              "    </tr>\n",
              "    <tr>\n",
              "      <th>Pclass</th>\n",
              "      <td>0</td>\n",
              "    </tr>\n",
              "    <tr>\n",
              "      <th>Name</th>\n",
              "      <td>0</td>\n",
              "    </tr>\n",
              "    <tr>\n",
              "      <th>Sex</th>\n",
              "      <td>0</td>\n",
              "    </tr>\n",
              "    <tr>\n",
              "      <th>Age</th>\n",
              "      <td>263</td>\n",
              "    </tr>\n",
              "    <tr>\n",
              "      <th>SibSp</th>\n",
              "      <td>0</td>\n",
              "    </tr>\n",
              "    <tr>\n",
              "      <th>Parch</th>\n",
              "      <td>0</td>\n",
              "    </tr>\n",
              "    <tr>\n",
              "      <th>Ticket</th>\n",
              "      <td>0</td>\n",
              "    </tr>\n",
              "    <tr>\n",
              "      <th>Fare</th>\n",
              "      <td>0</td>\n",
              "    </tr>\n",
              "    <tr>\n",
              "      <th>Cabin</th>\n",
              "      <td>1014</td>\n",
              "    </tr>\n",
              "    <tr>\n",
              "      <th>Embarked_C</th>\n",
              "      <td>0</td>\n",
              "    </tr>\n",
              "    <tr>\n",
              "      <th>Embarked_Q</th>\n",
              "      <td>0</td>\n",
              "    </tr>\n",
              "    <tr>\n",
              "      <th>Embarked_S</th>\n",
              "      <td>0</td>\n",
              "    </tr>\n",
              "  </tbody>\n",
              "</table>\n",
              "</div><br><label><b>dtype:</b> int64</label>"
            ]
          },
          "metadata": {},
          "execution_count": 4
        }
      ]
    },
    {
      "cell_type": "code",
      "source": [
        "df_concat['Title'] = df_concat['Name'].map(lambda x: x.split(',')[1].split('.')[0].strip())\n",
        "df_concat['Title'].value_counts()\n",
        "# df_concat['Name_length'] = df_concat['Name'].map(lambda x: len(x))\n",
        "# 例: pandas DataFrame f_concat に \"Title\" カラムがあるとする\n",
        "mapping = {\n",
        "    # 成人男性\n",
        "    'Mr':       'Mr',\n",
        "\n",
        "    # 未婚女性\n",
        "    'Miss':     'Miss',\n",
        "    'Mlle':     'Miss',   # Mlle はフランス語で Miss に相当\n",
        "    'Ms':       'Miss',   # Ms は未婚/既婚を区別しないが、ここでは Miss とみなす\n",
        "\n",
        "    # 既婚女性\n",
        "    'Mrs':      'Mrs',\n",
        "    'Mme':      'Mrs',    # Mme はフランス語で Mrs に相当\n",
        "\n",
        "    # 子供（男児）\n",
        "    'Master':   'Master',\n",
        "\n",
        "    # 貴族\n",
        "    'Sir':          'Royalty',\n",
        "    'Don':          'Royalty',\n",
        "    'Jonkheer':     'Royalty',\n",
        "    'Lady':         'Royalty',\n",
        "    'the Countess': 'Royalty',\n",
        "    'Dona':         'Royalty',\n",
        "\n",
        "    # 軍人・医師・聖職者\n",
        "    'Dr':       'Officer',\n",
        "    'Rev':      'Officer',\n",
        "    'Major':    'Officer',\n",
        "    'Col':      'Officer',\n",
        "    'Capt':     'Officer'\n",
        "}\n",
        "df_concat['Title'] = df_concat['Title'].map(mapping)\n",
        "# df_concat['Title'].fillna('Rare', inplace=True)\n",
        "\n",
        "Title = df_concat['Title']\n",
        "Title_ohe = pd.get_dummies(Title,prefix='Title')\n",
        "df_concat = pd.concat([df_concat, Title_ohe], axis=1)\n",
        "\n",
        "# Age\n",
        "# Name_length\n",
        "df_concat['Name_length'] = df_concat['Name'].apply(lambda x: len(x.strip()))\n",
        "\n",
        "\n",
        "from sklearn.ensemble import RandomForestRegressor\n",
        "#AgeをPclass, Sex, Parch, SibSpでランダムフォレストで推定\n",
        "\n",
        "# 参照: https://qiita.com/jun40vn/items/d8a1f71fae680589e05c\n",
        "\n",
        "#説明変数\n",
        "age_df_concat = df_concat[[\"Age\", \"Pclass\", \"Sex\", \"Parch\", \"SibSp\",\"Title_Master\",\"Title_Miss\",\"Title_Mr\",\"Title_Mrs\",\"Title_Royalty\", \"Title_Officer\",\"Embarked_S\",\"Embarked_Q\",\"Embarked_C\"]]\n",
        "\n",
        "age_df_concat.replace({'Sex': {'male': 0, 'female': 1}}, inplace=True)\n",
        "\n",
        "#学習データ->欠損してないデータ、テストデータ->欠損データ\n",
        "known_age = age_df_concat[age_df_concat.Age.notnull()].values\n",
        "unknown_age = age_df_concat[age_df_concat.Age.isnull()].values\n",
        "\n",
        "X = known_age[:, 1:]\n",
        "y = known_age[:, 0]\n",
        "\n",
        "# ランダムフォレスト年齢推定モデル\n",
        "rf_age = RandomForestRegressor(n_estimators=300,random_state=42, n_jobs=-1)\n",
        "rf_age.fit(X, y)\n",
        "\n",
        "predictedAges = rf_age.predict(unknown_age[:, 1:])\n",
        "df_concat.loc[ (df_concat.Age.isnull()), 'Age' ] = predictedAges\n",
        "df_concat.isnull().sum()"
      ],
      "metadata": {
        "colab": {
          "base_uri": "https://localhost:8080/",
          "height": 774
        },
        "id": "xIxMg0vImZX6",
        "outputId": "228fafc0-4f72-492f-92fa-c215d2552748"
      },
      "execution_count": 5,
      "outputs": [
        {
          "output_type": "execute_result",
          "data": {
            "text/plain": [
              "PassengerId         0\n",
              "Perished          418\n",
              "Pclass              0\n",
              "Name                0\n",
              "Sex                 0\n",
              "Age                 0\n",
              "SibSp               0\n",
              "Parch               0\n",
              "Ticket              0\n",
              "Fare                0\n",
              "Cabin            1014\n",
              "Embarked_C          0\n",
              "Embarked_Q          0\n",
              "Embarked_S          0\n",
              "Title               0\n",
              "Title_Master        0\n",
              "Title_Miss          0\n",
              "Title_Mr            0\n",
              "Title_Mrs           0\n",
              "Title_Officer       0\n",
              "Title_Royalty       0\n",
              "Name_length         0\n",
              "dtype: int64"
            ],
            "text/html": [
              "<div>\n",
              "<style scoped>\n",
              "    .dataframe tbody tr th:only-of-type {\n",
              "        vertical-align: middle;\n",
              "    }\n",
              "\n",
              "    .dataframe tbody tr th {\n",
              "        vertical-align: top;\n",
              "    }\n",
              "\n",
              "    .dataframe thead th {\n",
              "        text-align: right;\n",
              "    }\n",
              "</style>\n",
              "<table border=\"1\" class=\"dataframe\">\n",
              "  <thead>\n",
              "    <tr style=\"text-align: right;\">\n",
              "      <th></th>\n",
              "      <th>0</th>\n",
              "    </tr>\n",
              "  </thead>\n",
              "  <tbody>\n",
              "    <tr>\n",
              "      <th>PassengerId</th>\n",
              "      <td>0</td>\n",
              "    </tr>\n",
              "    <tr>\n",
              "      <th>Perished</th>\n",
              "      <td>418</td>\n",
              "    </tr>\n",
              "    <tr>\n",
              "      <th>Pclass</th>\n",
              "      <td>0</td>\n",
              "    </tr>\n",
              "    <tr>\n",
              "      <th>Name</th>\n",
              "      <td>0</td>\n",
              "    </tr>\n",
              "    <tr>\n",
              "      <th>Sex</th>\n",
              "      <td>0</td>\n",
              "    </tr>\n",
              "    <tr>\n",
              "      <th>Age</th>\n",
              "      <td>0</td>\n",
              "    </tr>\n",
              "    <tr>\n",
              "      <th>SibSp</th>\n",
              "      <td>0</td>\n",
              "    </tr>\n",
              "    <tr>\n",
              "      <th>Parch</th>\n",
              "      <td>0</td>\n",
              "    </tr>\n",
              "    <tr>\n",
              "      <th>Ticket</th>\n",
              "      <td>0</td>\n",
              "    </tr>\n",
              "    <tr>\n",
              "      <th>Fare</th>\n",
              "      <td>0</td>\n",
              "    </tr>\n",
              "    <tr>\n",
              "      <th>Cabin</th>\n",
              "      <td>1014</td>\n",
              "    </tr>\n",
              "    <tr>\n",
              "      <th>Embarked_C</th>\n",
              "      <td>0</td>\n",
              "    </tr>\n",
              "    <tr>\n",
              "      <th>Embarked_Q</th>\n",
              "      <td>0</td>\n",
              "    </tr>\n",
              "    <tr>\n",
              "      <th>Embarked_S</th>\n",
              "      <td>0</td>\n",
              "    </tr>\n",
              "    <tr>\n",
              "      <th>Title</th>\n",
              "      <td>0</td>\n",
              "    </tr>\n",
              "    <tr>\n",
              "      <th>Title_Master</th>\n",
              "      <td>0</td>\n",
              "    </tr>\n",
              "    <tr>\n",
              "      <th>Title_Miss</th>\n",
              "      <td>0</td>\n",
              "    </tr>\n",
              "    <tr>\n",
              "      <th>Title_Mr</th>\n",
              "      <td>0</td>\n",
              "    </tr>\n",
              "    <tr>\n",
              "      <th>Title_Mrs</th>\n",
              "      <td>0</td>\n",
              "    </tr>\n",
              "    <tr>\n",
              "      <th>Title_Officer</th>\n",
              "      <td>0</td>\n",
              "    </tr>\n",
              "    <tr>\n",
              "      <th>Title_Royalty</th>\n",
              "      <td>0</td>\n",
              "    </tr>\n",
              "    <tr>\n",
              "      <th>Name_length</th>\n",
              "      <td>0</td>\n",
              "    </tr>\n",
              "  </tbody>\n",
              "</table>\n",
              "</div><br><label><b>dtype:</b> int64</label>"
            ]
          },
          "metadata": {},
          "execution_count": 5
        }
      ]
    },
    {
      "cell_type": "code",
      "source": [
        "facet = sns.FacetGrid(df_concat[:891], hue='Perished',aspect=2)\n",
        "facet.map(sns.kdeplot, 'Age', shade=True)\n",
        "facet.set(xlim=(0, df_concat[:891]['Age'].max()))\n",
        "facet.add_legend()\n",
        "plt.show()"
      ],
      "metadata": {
        "colab": {
          "base_uri": "https://localhost:8080/",
          "height": 307
        },
        "id": "NcizKG1uiudT",
        "outputId": "631d2ccb-b0ae-4c91-8db1-73138db92552"
      },
      "execution_count": null,
      "outputs": [
        {
          "output_type": "display_data",
          "data": {
            "text/plain": [
              "<Figure size 672x300 with 1 Axes>"
            ],
            "image/png": "[encoded data removed]"
          },
          "metadata": {}
        }
      ]
    },
    {
      "cell_type": "markdown",
      "source": [
        "###Cabinの欠損値補完\n",
        "Cabinの頭文字を取得して、欠損データには'U'(Unknown)とする。\n",
        "ばらつきがあるので、頻度エンコーディング\n",
        "Cabin_label\n",
        "U    1014\n",
        "C      94\n",
        "B      65\n",
        "D      46\n",
        "E      41\n",
        "A      22\n",
        "F      21\n",
        "G       5\n",
        "T       1"
      ],
      "metadata": {
        "id": "Ity4Ez-KoMge"
      }
    },
    {
      "cell_type": "code",
      "source": [
        "#Cabinの欠損値\n",
        "df_concat['Cabin'] = df_concat['Cabin'].fillna('Unknown')\n",
        "df_concat['Cabin_label'] = df_concat['Cabin'].str.get(0)\n",
        "# mean_perished = df_concat.groupby('Cabin_label')['Perished'].mean()\n",
        "# order = mean_perished.sort_values(ascending=True).index.tolist()\n",
        "# sns.barplot(x='Cabin_label', y='Perished', data=df_concat,order=order, palette='Set3')\n",
        "# plt.show()\n",
        "\n",
        "# freq = df_concat.loc[:890,'Cabin_label'].value_counts(normalize=True).to_dict()\n",
        "# df_concat['Cabin_label'] = df_concat['Cabin_label'].map(freq)\n",
        "# df_concat['Cabin_label'].fillna(0, inplace=True)\n",
        "Cabin_label = df_concat['Cabin_label']\n",
        "Cabin_label_ohe = pd.get_dummies(Cabin_label,prefix='Cabin')\n",
        "df_concat = pd.concat([df_concat, Cabin_label_ohe], axis=1)\n",
        "df_concat.drop(['Cabin_label'], axis=1, inplace=True)\n",
        "df_concat.info()"
      ],
      "metadata": {
        "id": "N-Zbvf1GoGXg",
        "colab": {
          "base_uri": "https://localhost:8080/"
        },
        "outputId": "2f309daa-e4ea-4d1c-854b-3691773d4dc3"
      },
      "execution_count": 6,
      "outputs": [
        {
          "output_type": "stream",
          "name": "stdout",
          "text": [
            "<class 'pandas.core.frame.DataFrame'>\n",
            "RangeIndex: 1309 entries, 0 to 1308\n",
            "Data columns (total 31 columns):\n",
            " #   Column         Non-Null Count  Dtype  \n",
            "---  ------         --------------  -----  \n",
            " 0   PassengerId    1309 non-null   int64  \n",
            " 1   Perished       891 non-null    float64\n",
            " 2   Pclass         1309 non-null   int64  \n",
            " 3   Name           1309 non-null   object \n",
            " 4   Sex            1309 non-null   object \n",
            " 5   Age            1309 non-null   float64\n",
            " 6   SibSp          1309 non-null   int64  \n",
            " 7   Parch          1309 non-null   int64  \n",
            " 8   Ticket         1309 non-null   object \n",
            " 9   Fare           1309 non-null   float64\n",
            " 10  Cabin          1309 non-null   object \n",
            " 11  Embarked_C     1309 non-null   bool   \n",
            " 12  Embarked_Q     1309 non-null   bool   \n",
            " 13  Embarked_S     1309 non-null   bool   \n",
            " 14  Title          1309 non-null   object \n",
            " 15  Title_Master   1309 non-null   bool   \n",
            " 16  Title_Miss     1309 non-null   bool   \n",
            " 17  Title_Mr       1309 non-null   bool   \n",
            " 18  Title_Mrs      1309 non-null   bool   \n",
            " 19  Title_Officer  1309 non-null   bool   \n",
            " 20  Title_Royalty  1309 non-null   bool   \n",
            " 21  Name_length    1309 non-null   int64  \n",
            " 22  Cabin_A        1309 non-null   bool   \n",
            " 23  Cabin_B        1309 non-null   bool   \n",
            " 24  Cabin_C        1309 non-null   bool   \n",
            " 25  Cabin_D        1309 non-null   bool   \n",
            " 26  Cabin_E        1309 non-null   bool   \n",
            " 27  Cabin_F        1309 non-null   bool   \n",
            " 28  Cabin_G        1309 non-null   bool   \n",
            " 29  Cabin_T        1309 non-null   bool   \n",
            " 30  Cabin_U        1309 non-null   bool   \n",
            "dtypes: bool(18), float64(3), int64(5), object(5)\n",
            "memory usage: 156.1+ KB\n"
          ]
        }
      ]
    },
    {
      "cell_type": "markdown",
      "source": [
        "###特徴量エンジニアリング\n",
        "Ticketをグループ化\n",
        "\n",
        "Family -> SibSp + Parch +1 ->グループ化\n",
        "\n",
        "IsAlone ->一人かどうかでグループ化"
      ],
      "metadata": {
        "id": "J0oMsgIBwl9A"
      }
    },
    {
      "cell_type": "code",
      "source": [
        "#Ticket統計\n",
        "Ticket_counts = dict(df_concat['Ticket'].value_counts())\n",
        "df_concat['TicketGroup'] = df_concat['Ticket'].map(Ticket_counts)\n",
        "# sns.barplot(x='TicketGroup', y='Perished', data=df_concat, palette='Set3')\n",
        "df_concat.loc[(df_concat['TicketGroup'] >= 2) & (df_concat['TicketGroup'] <= 4), 'Ticket_label'] = 2\n",
        "df_concat.loc[(df_concat['TicketGroup'] >= 5) & (df_concat['TicketGroup'] <= 8) | (df_concat['TicketGroup']==1), 'Ticket_label'] = 1\n",
        "df_concat.loc[(df_concat['TicketGroup'] >=11), 'Ticket_label'] = 0\n",
        "\n",
        "# Ticketの先頭文字列をカテゴリ化\n",
        "df_concat['Ticket_Prefix'] = df_concat['Ticket'].apply(lambda x: x.split()[0] if not x.isdigit() else 'NUM')\n",
        "ticket_counts = df_concat['Ticket_Prefix'].value_counts()\n",
        "common_prefixes = ticket_counts[ticket_counts > 15].index  # 出現数以上などで閾値設定\n",
        "\n",
        "df_concat['Ticket_Prefix_Grouped'] = df_concat['Ticket_Prefix'].apply(\n",
        "    lambda x: x if x in common_prefixes else 'Rare'\n",
        ")\n",
        "print(df_concat['Ticket_Prefix_Grouped'].value_counts())\n",
        "\n",
        "# One-hot\n",
        "Ticket_Prefix_Grouped = df_concat['Ticket_Prefix_Grouped']\n",
        "Ticket_Prefix_Grouped_ohe = pd.get_dummies(Ticket_Prefix_Grouped,prefix='Ticket_Prefix')\n",
        "df_concat = pd.concat([df_concat, Ticket_Prefix_Grouped_ohe], axis=1)\n",
        "\n",
        "\n",
        "#Family変数の追加 + グルーピング\n",
        "#https://qiita.com/jun40vn/items/d8a1f71fae680589e05c\n",
        "df_concat['Family'] = df_concat['SibSp'] + df_concat['Parch'] + 1\n",
        "df_concat.loc[(df_concat['Family'] >= 2) & (df_concat['Family'] <= 4), 'Family_label'] = 2\n",
        "df_concat.loc[(df_concat['Family'] >= 5) & (df_concat['Family'] <= 7) | (df_concat['Family']==1), 'Family_label'] = 1\n",
        "df_concat.loc[(df_concat['Family'] >= 8), 'Family_label'] = 0\n",
        "\n",
        "#一人かそれ以外かでグループ化\n",
        "df_concat['IsAlone'] = (df_concat['Family'] == 1).astype(int)\n",
        "# df_concat['IsAlone'] = (df_concat['Family'] == 1).astype(int)\n",
        "df_concat.drop(['Family','SibSp','Parch'], axis=1, inplace=True)\n",
        "df_concat.info()"
      ],
      "metadata": {
        "colab": {
          "base_uri": "https://localhost:8080/"
        },
        "id": "e0JKrxiEuUNJ",
        "outputId": "60249c1c-427d-4116-828e-9ff0d2192dab"
      },
      "execution_count": 7,
      "outputs": [
        {
          "output_type": "stream",
          "name": "stdout",
          "text": [
            "Ticket_Prefix_Grouped\n",
            "NUM           957\n",
            "Rare          198\n",
            "PC             92\n",
            "C.A.           46\n",
            "SOTON/O.Q.     16\n",
            "Name: count, dtype: int64\n",
            "<class 'pandas.core.frame.DataFrame'>\n",
            "RangeIndex: 1309 entries, 0 to 1308\n",
            "Data columns (total 40 columns):\n",
            " #   Column                    Non-Null Count  Dtype  \n",
            "---  ------                    --------------  -----  \n",
            " 0   PassengerId               1309 non-null   int64  \n",
            " 1   Perished                  891 non-null    float64\n",
            " 2   Pclass                    1309 non-null   int64  \n",
            " 3   Name                      1309 non-null   object \n",
            " 4   Sex                       1309 non-null   object \n",
            " 5   Age                       1309 non-null   float64\n",
            " 6   Ticket                    1309 non-null   object \n",
            " 7   Fare                      1309 non-null   float64\n",
            " 8   Cabin                     1309 non-null   object \n",
            " 9   Embarked_C                1309 non-null   bool   \n",
            " 10  Embarked_Q                1309 non-null   bool   \n",
            " 11  Embarked_S                1309 non-null   bool   \n",
            " 12  Title                     1309 non-null   object \n",
            " 13  Title_Master              1309 non-null   bool   \n",
            " 14  Title_Miss                1309 non-null   bool   \n",
            " 15  Title_Mr                  1309 non-null   bool   \n",
            " 16  Title_Mrs                 1309 non-null   bool   \n",
            " 17  Title_Officer             1309 non-null   bool   \n",
            " 18  Title_Royalty             1309 non-null   bool   \n",
            " 19  Name_length               1309 non-null   int64  \n",
            " 20  Cabin_A                   1309 non-null   bool   \n",
            " 21  Cabin_B                   1309 non-null   bool   \n",
            " 22  Cabin_C                   1309 non-null   bool   \n",
            " 23  Cabin_D                   1309 non-null   bool   \n",
            " 24  Cabin_E                   1309 non-null   bool   \n",
            " 25  Cabin_F                   1309 non-null   bool   \n",
            " 26  Cabin_G                   1309 non-null   bool   \n",
            " 27  Cabin_T                   1309 non-null   bool   \n",
            " 28  Cabin_U                   1309 non-null   bool   \n",
            " 29  TicketGroup               1309 non-null   int64  \n",
            " 30  Ticket_label              1309 non-null   float64\n",
            " 31  Ticket_Prefix             1309 non-null   object \n",
            " 32  Ticket_Prefix_Grouped     1309 non-null   object \n",
            " 33  Ticket_Prefix_C.A.        1309 non-null   bool   \n",
            " 34  Ticket_Prefix_NUM         1309 non-null   bool   \n",
            " 35  Ticket_Prefix_PC          1309 non-null   bool   \n",
            " 36  Ticket_Prefix_Rare        1309 non-null   bool   \n",
            " 37  Ticket_Prefix_SOTON/O.Q.  1309 non-null   bool   \n",
            " 38  Family_label              1309 non-null   float64\n",
            " 39  IsAlone                   1309 non-null   int64  \n",
            "dtypes: bool(23), float64(5), int64(5), object(7)\n",
            "memory usage: 203.4+ KB\n"
          ]
        }
      ]
    },
    {
      "cell_type": "markdown",
      "source": [
        "###Fareのスケーリング"
      ],
      "metadata": {
        "id": "izdaQn46Xvlq"
      }
    },
    {
      "cell_type": "code",
      "source": [
        "# prompt: Fareの分布を見たい\n",
        "df_concat['Fare_log'] = np.log1p(df_concat['Fare'])\n",
        "\n",
        "\n",
        "import matplotlib.pyplot as plt\n",
        "sns.histplot(df_concat['Fare_log'], bins=30, kde=True)\n",
        "plt.title('Distribution of Fare')\n",
        "plt.xlabel('Fare')\n",
        "plt.ylabel('Frequency')\n",
        "plt.show()\n",
        "\n",
        "# Fareのビニング\n",
        "# df_concat['Fare_bin'] = pd.qcut(df_concat['Fare'], bins=4,labels=False)"
      ],
      "metadata": {
        "colab": {
          "base_uri": "https://localhost:8080/",
          "height": 472
        },
        "id": "O-j5kbh7g9Wf",
        "outputId": "4c2ea924-80c4-43d3-d91a-4fa50ac4d992"
      },
      "execution_count": 8,
      "outputs": [
        {
          "output_type": "display_data",
          "data": {
            "text/plain": [
              "<Figure size 640x480 with 1 Axes>"
            ],
            "image/png": "[encoded data removed]"
          },
          "metadata": {}
        }
      ]
    },
    {
      "cell_type": "markdown",
      "source": [
        "###Ageビニング"
      ],
      "metadata": {
        "id": "kcH9a3cHXEcQ"
      }
    },
    {
      "cell_type": "code",
      "source": [
        "# prompt: AgeとPerishedをビニングで可視化\n",
        "\n",
        "import pandas as pd\n",
        "import matplotlib.pyplot as plt\n",
        "# Ageのビニング\n",
        "df_concat['Age_bin'] = pd.cut(df_concat['Age'], bins=25,labels=False)\n",
        "\n",
        "# Age_binとPerishedの関係を可視化\n",
        "sns.barplot(x='Age_bin', y='Perished', data=df_concat[:891], palette='Set3')\n",
        "plt.title('Survival Rate by Age Bin')\n",
        "plt.xlabel('Age Bin')\n",
        "plt.ylabel('Survival Rate')\n",
        "plt.show()"
      ],
      "metadata": {
        "colab": {
          "base_uri": "https://localhost:8080/",
          "height": 472
        },
        "id": "-_ZcInJNgQmt",
        "outputId": "bf019df8-8809-4a83-f295-087ff2fa4b3a"
      },
      "execution_count": 44,
      "outputs": [
        {
          "output_type": "display_data",
          "data": {
            "text/plain": [
              "<Figure size 640x480 with 1 Axes>"
            ],
            "image/png": "[encoded data removed]"
          },
          "metadata": {}
        }
      ]
    },
    {
      "cell_type": "markdown",
      "source": [
        "###エンコーディング\n",
        "\n",
        "Sex ->onehot\n",
        "\n",
        "Embarked -> onehot\n",
        "\n"
      ],
      "metadata": {
        "id": "lh2AaI1byD4L"
      }
    },
    {
      "cell_type": "code",
      "source": [
        "# Sex\n",
        "Sex = df_concat['Sex']\n",
        "Sex_ohe = pd.get_dummies(Sex,prefix='Sex')\n",
        "\n",
        "# Embarked\n",
        "# Embarked = df_concat['Embarked']\n",
        "# Embarked_ohe = pd.get_dummies(Embarked,prefix='Embarked')\n",
        "\n",
        "df_concat = pd.concat([df_concat, Sex_ohe], axis=1)\n",
        "df_concat.info()"
      ],
      "metadata": {
        "colab": {
          "base_uri": "https://localhost:8080/"
        },
        "id": "7Or9ZdPOxtqz",
        "outputId": "0034f6ab-ba74-4cb2-cb6f-1adc4523a5d9"
      },
      "execution_count": 9,
      "outputs": [
        {
          "output_type": "stream",
          "name": "stdout",
          "text": [
            "<class 'pandas.core.frame.DataFrame'>\n",
            "RangeIndex: 1309 entries, 0 to 1308\n",
            "Data columns (total 43 columns):\n",
            " #   Column                    Non-Null Count  Dtype  \n",
            "---  ------                    --------------  -----  \n",
            " 0   PassengerId               1309 non-null   int64  \n",
            " 1   Perished                  891 non-null    float64\n",
            " 2   Pclass                    1309 non-null   int64  \n",
            " 3   Name                      1309 non-null   object \n",
            " 4   Sex                       1309 non-null   object \n",
            " 5   Age                       1309 non-null   float64\n",
            " 6   Ticket                    1309 non-null   object \n",
            " 7   Fare                      1309 non-null   float64\n",
            " 8   Cabin                     1309 non-null   object \n",
            " 9   Embarked_C                1309 non-null   bool   \n",
            " 10  Embarked_Q                1309 non-null   bool   \n",
            " 11  Embarked_S                1309 non-null   bool   \n",
            " 12  Title                     1309 non-null   object \n",
            " 13  Title_Master              1309 non-null   bool   \n",
            " 14  Title_Miss                1309 non-null   bool   \n",
            " 15  Title_Mr                  1309 non-null   bool   \n",
            " 16  Title_Mrs                 1309 non-null   bool   \n",
            " 17  Title_Officer             1309 non-null   bool   \n",
            " 18  Title_Royalty             1309 non-null   bool   \n",
            " 19  Name_length               1309 non-null   int64  \n",
            " 20  Cabin_A                   1309 non-null   bool   \n",
            " 21  Cabin_B                   1309 non-null   bool   \n",
            " 22  Cabin_C                   1309 non-null   bool   \n",
            " 23  Cabin_D                   1309 non-null   bool   \n",
            " 24  Cabin_E                   1309 non-null   bool   \n",
            " 25  Cabin_F                   1309 non-null   bool   \n",
            " 26  Cabin_G                   1309 non-null   bool   \n",
            " 27  Cabin_T                   1309 non-null   bool   \n",
            " 28  Cabin_U                   1309 non-null   bool   \n",
            " 29  TicketGroup               1309 non-null   int64  \n",
            " 30  Ticket_label              1309 non-null   float64\n",
            " 31  Ticket_Prefix             1309 non-null   object \n",
            " 32  Ticket_Prefix_Grouped     1309 non-null   object \n",
            " 33  Ticket_Prefix_C.A.        1309 non-null   bool   \n",
            " 34  Ticket_Prefix_NUM         1309 non-null   bool   \n",
            " 35  Ticket_Prefix_PC          1309 non-null   bool   \n",
            " 36  Ticket_Prefix_Rare        1309 non-null   bool   \n",
            " 37  Ticket_Prefix_SOTON/O.Q.  1309 non-null   bool   \n",
            " 38  Family_label              1309 non-null   float64\n",
            " 39  IsAlone                   1309 non-null   int64  \n",
            " 40  Fare_log                  1309 non-null   float64\n",
            " 41  Sex_female                1309 non-null   bool   \n",
            " 42  Sex_male                  1309 non-null   bool   \n",
            "dtypes: bool(25), float64(6), int64(5), object(7)\n",
            "memory usage: 216.2+ KB\n"
          ]
        }
      ]
    },
    {
      "cell_type": "markdown",
      "source": [
        "###相互作用特徴量"
      ],
      "metadata": {
        "id": "wOp0t9ZOWUcc"
      }
    },
    {
      "cell_type": "code",
      "source": [
        "df_concat['Sex_male_Pclass'] = df_concat['Sex_male'] * df_concat['Pclass']\n",
        "df_concat['Age_Pclass'] = df_concat['Age'] * df_concat['Pclass']\n",
        "df_concat['Fare_log_Pclass'] = df_concat['Fare_log'] * df_concat['Pclass']\n",
        "df_concat['Age_Fare_log'] = df_concat['Age'] * df_concat['Fare_log']\n",
        "df_concat['Title_Mr_Pclass'] = df_concat['Title_Mr'] * df_concat['Pclass']\n",
        "df_concat['IsAlone_Sex_male'] = df_concat['IsAlone'] * df_concat['Sex_male']"
      ],
      "metadata": {
        "id": "scZoby_IWYRs"
      },
      "execution_count": 10,
      "outputs": []
    },
    {
      "cell_type": "code",
      "source": [
        "# Name, Sex, Cabin, Embarked, Titleドロップ\n",
        "df_concat.drop(['Name', 'Sex', 'Cabin', 'Title'], axis=1, inplace=True)\n",
        "df_concat.info()"
      ],
      "metadata": {
        "colab": {
          "base_uri": "https://localhost:8080/"
        },
        "id": "yLiWBECty5As",
        "outputId": "c1c660ee-a585-49b0-e8e3-b5cc4bf75afc"
      },
      "execution_count": 11,
      "outputs": [
        {
          "output_type": "stream",
          "name": "stdout",
          "text": [
            "<class 'pandas.core.frame.DataFrame'>\n",
            "RangeIndex: 1309 entries, 0 to 1308\n",
            "Data columns (total 45 columns):\n",
            " #   Column                    Non-Null Count  Dtype  \n",
            "---  ------                    --------------  -----  \n",
            " 0   PassengerId               1309 non-null   int64  \n",
            " 1   Perished                  891 non-null    float64\n",
            " 2   Pclass                    1309 non-null   int64  \n",
            " 3   Age                       1309 non-null   float64\n",
            " 4   Ticket                    1309 non-null   object \n",
            " 5   Fare                      1309 non-null   float64\n",
            " 6   Embarked_C                1309 non-null   bool   \n",
            " 7   Embarked_Q                1309 non-null   bool   \n",
            " 8   Embarked_S                1309 non-null   bool   \n",
            " 9   Title_Master              1309 non-null   bool   \n",
            " 10  Title_Miss                1309 non-null   bool   \n",
            " 11  Title_Mr                  1309 non-null   bool   \n",
            " 12  Title_Mrs                 1309 non-null   bool   \n",
            " 13  Title_Officer             1309 non-null   bool   \n",
            " 14  Title_Royalty             1309 non-null   bool   \n",
            " 15  Name_length               1309 non-null   int64  \n",
            " 16  Cabin_A                   1309 non-null   bool   \n",
            " 17  Cabin_B                   1309 non-null   bool   \n",
            " 18  Cabin_C                   1309 non-null   bool   \n",
            " 19  Cabin_D                   1309 non-null   bool   \n",
            " 20  Cabin_E                   1309 non-null   bool   \n",
            " 21  Cabin_F                   1309 non-null   bool   \n",
            " 22  Cabin_G                   1309 non-null   bool   \n",
            " 23  Cabin_T                   1309 non-null   bool   \n",
            " 24  Cabin_U                   1309 non-null   bool   \n",
            " 25  TicketGroup               1309 non-null   int64  \n",
            " 26  Ticket_label              1309 non-null   float64\n",
            " 27  Ticket_Prefix             1309 non-null   object \n",
            " 28  Ticket_Prefix_Grouped     1309 non-null   object \n",
            " 29  Ticket_Prefix_C.A.        1309 non-null   bool   \n",
            " 30  Ticket_Prefix_NUM         1309 non-null   bool   \n",
            " 31  Ticket_Prefix_PC          1309 non-null   bool   \n",
            " 32  Ticket_Prefix_Rare        1309 non-null   bool   \n",
            " 33  Ticket_Prefix_SOTON/O.Q.  1309 non-null   bool   \n",
            " 34  Family_label              1309 non-null   float64\n",
            " 35  IsAlone                   1309 non-null   int64  \n",
            " 36  Fare_log                  1309 non-null   float64\n",
            " 37  Sex_female                1309 non-null   bool   \n",
            " 38  Sex_male                  1309 non-null   bool   \n",
            " 39  Sex_male_Pclass           1309 non-null   int64  \n",
            " 40  Age_Pclass                1309 non-null   float64\n",
            " 41  Fare_log_Pclass           1309 non-null   float64\n",
            " 42  Age_Fare_log              1309 non-null   float64\n",
            " 43  Title_Mr_Pclass           1309 non-null   int64  \n",
            " 44  IsAlone_Sex_male          1309 non-null   int64  \n",
            "dtypes: bool(25), float64(9), int64(8), object(3)\n",
            "memory usage: 236.6+ KB\n"
          ]
        }
      ]
    },
    {
      "cell_type": "code",
      "source": [
        "# 必要に応じて、カラムを削除\n",
        "df_concat.drop(['Ticket','Fare'], axis=1, inplace=True)\n",
        "df_concat.drop(['Ticket_Prefix','TicketGroup','Ticket_Prefix_Grouped',],axis=1,inplace=True)\n",
        "df_concat.info()"
      ],
      "metadata": {
        "colab": {
          "base_uri": "https://localhost:8080/"
        },
        "id": "PqIdj29UZz1z",
        "outputId": "806af604-b43f-42fb-8f1b-b23416afd9ca"
      },
      "execution_count": 12,
      "outputs": [
        {
          "output_type": "stream",
          "name": "stdout",
          "text": [
            "<class 'pandas.core.frame.DataFrame'>\n",
            "RangeIndex: 1309 entries, 0 to 1308\n",
            "Data columns (total 40 columns):\n",
            " #   Column                    Non-Null Count  Dtype  \n",
            "---  ------                    --------------  -----  \n",
            " 0   PassengerId               1309 non-null   int64  \n",
            " 1   Perished                  891 non-null    float64\n",
            " 2   Pclass                    1309 non-null   int64  \n",
            " 3   Age                       1309 non-null   float64\n",
            " 4   Embarked_C                1309 non-null   bool   \n",
            " 5   Embarked_Q                1309 non-null   bool   \n",
            " 6   Embarked_S                1309 non-null   bool   \n",
            " 7   Title_Master              1309 non-null   bool   \n",
            " 8   Title_Miss                1309 non-null   bool   \n",
            " 9   Title_Mr                  1309 non-null   bool   \n",
            " 10  Title_Mrs                 1309 non-null   bool   \n",
            " 11  Title_Officer             1309 non-null   bool   \n",
            " 12  Title_Royalty             1309 non-null   bool   \n",
            " 13  Name_length               1309 non-null   int64  \n",
            " 14  Cabin_A                   1309 non-null   bool   \n",
            " 15  Cabin_B                   1309 non-null   bool   \n",
            " 16  Cabin_C                   1309 non-null   bool   \n",
            " 17  Cabin_D                   1309 non-null   bool   \n",
            " 18  Cabin_E                   1309 non-null   bool   \n",
            " 19  Cabin_F                   1309 non-null   bool   \n",
            " 20  Cabin_G                   1309 non-null   bool   \n",
            " 21  Cabin_T                   1309 non-null   bool   \n",
            " 22  Cabin_U                   1309 non-null   bool   \n",
            " 23  Ticket_label              1309 non-null   float64\n",
            " 24  Ticket_Prefix_C.A.        1309 non-null   bool   \n",
            " 25  Ticket_Prefix_NUM         1309 non-null   bool   \n",
            " 26  Ticket_Prefix_PC          1309 non-null   bool   \n",
            " 27  Ticket_Prefix_Rare        1309 non-null   bool   \n",
            " 28  Ticket_Prefix_SOTON/O.Q.  1309 non-null   bool   \n",
            " 29  Family_label              1309 non-null   float64\n",
            " 30  IsAlone                   1309 non-null   int64  \n",
            " 31  Fare_log                  1309 non-null   float64\n",
            " 32  Sex_female                1309 non-null   bool   \n",
            " 33  Sex_male                  1309 non-null   bool   \n",
            " 34  Sex_male_Pclass           1309 non-null   int64  \n",
            " 35  Age_Pclass                1309 non-null   float64\n",
            " 36  Fare_log_Pclass           1309 non-null   float64\n",
            " 37  Age_Fare_log              1309 non-null   float64\n",
            " 38  Title_Mr_Pclass           1309 non-null   int64  \n",
            " 39  IsAlone_Sex_male          1309 non-null   int64  \n",
            "dtypes: bool(25), float64(8), int64(7)\n",
            "memory usage: 185.5 KB\n"
          ]
        }
      ]
    },
    {
      "cell_type": "code",
      "source": [
        "df_concat.drop('Age', axis=1, inplace=True)"
      ],
      "metadata": {
        "id": "CX7oT14ogtCO"
      },
      "execution_count": 45,
      "outputs": []
    },
    {
      "cell_type": "code",
      "source": [
        "df = df_concat[:891]\n",
        "df_test = df_concat[891:]\n",
        "X = df.drop(['PassengerId', 'Perished'], axis=1).values\n",
        "y = df['Perished'].values\n",
        "X_test = df_test.drop(['PassengerId', 'Perished',], axis=1).values\n",
        "\n",
        "X_train, X_valid, y_train, y_valid = train_test_split(X, y, test_size=0.1, random_state=42)\n",
        "print(X.shape, y.shape)"
      ],
      "metadata": {
        "colab": {
          "base_uri": "https://localhost:8080/"
        },
        "id": "RRsZOMXtzMnJ",
        "outputId": "8f8061b7-fa13-4cdc-f62a-63fcbc569ec6"
      },
      "execution_count": 46,
      "outputs": [
        {
          "output_type": "stream",
          "name": "stdout",
          "text": [
            "(891, 38) (891,)\n"
          ]
        }
      ]
    },
    {
      "cell_type": "code",
      "source": [
        "# prompt: lightGBMを使って、重要度を横棒グラフで算出\n",
        "\n",
        "import pandas as pd\n",
        "import matplotlib.pyplot as plt\n",
        "!pip install lightgbm\n",
        "import lightgbm as lgb\n",
        "lgb_clf = lgb.LGBMClassifier(random_state=42)\n",
        "lgb_clf.fit(X_train, y_train)\n",
        "# 特徴量の重要度を取得\n",
        "feature_importances = pd.DataFrame({\n",
        "    'feature': df.drop(['PassengerId', 'Perished'], axis=1).columns,\n",
        "    'importance': lgb_clf.feature_importances_\n",
        "})\n",
        "# 重要度で降順にソート\n",
        "feature_importances = feature_importances.sort_values('importance', ascending=False)\n",
        "# 横棒グラフで表示\n",
        "plt.figure(figsize=(10, 8))\n",
        "sns.barplot(x='importance', y='feature', data=feature_importances)\n",
        "plt.title('LightGBM Feature Importances')\n",
        "plt.xlabel('Importance')\n",
        "plt.ylabel('Feature')\n",
        "plt.show()"
      ],
      "metadata": {
        "colab": {
          "base_uri": "https://localhost:8080/",
          "height": 968
        },
        "id": "doCo7Oqo95yS",
        "outputId": "6c136b8c-c592-4d4b-be3f-c4226e6eba19"
      },
      "execution_count": 14,
      "outputs": [
        {
          "output_type": "stream",
          "name": "stdout",
          "text": [
            "Requirement already satisfied: lightgbm in /usr/local/lib/python3.11/dist-packages (4.5.0)\n",
            "Requirement already satisfied: numpy>=1.17.0 in /usr/local/lib/python3.11/dist-packages (from lightgbm) (2.0.2)\n",
            "Requirement already satisfied: scipy in /usr/local/lib/python3.11/dist-packages (from lightgbm) (1.15.3)\n",
            "[LightGBM] [Info] Number of positive: 495, number of negative: 306\n",
            "[LightGBM] [Info] Auto-choosing row-wise multi-threading, the overhead of testing was 0.000566 seconds.\n",
            "You can set `force_row_wise=true` to remove the overhead.\n",
            "And if memory is not enough, you can set `force_col_wise=true`.\n",
            "[LightGBM] [Info] Total Bins 802\n",
            "[LightGBM] [Info] Number of data points in the train set: 801, number of used features: 31\n",
            "[LightGBM] [Info] [binary:BoostFromScore]: pavg=0.617978 -> initscore=0.480973\n",
            "[LightGBM] [Info] Start training from score 0.480973\n",
            "[LightGBM] [Warning] No further splits with positive gain, best gain: -inf\n",
            "[LightGBM] [Warning] No further splits with positive gain, best gain: -inf\n",
            "[LightGBM] [Warning] No further splits with positive gain, best gain: -inf\n",
            "[LightGBM] [Warning] No further splits with positive gain, best gain: -inf\n",
            "[LightGBM] [Warning] No further splits with positive gain, best gain: -inf\n",
            "[LightGBM] [Warning] No further splits with positive gain, best gain: -inf\n",
            "[LightGBM] [Warning] No further splits with positive gain, best gain: -inf\n",
            "[LightGBM] [Warning] No further splits with positive gain, best gain: -inf\n",
            "[LightGBM] [Warning] No further splits with positive gain, best gain: -inf\n"
          ]
        },
        {
          "output_type": "display_data",
          "data": {
            "text/plain": [
              "<Figure size 1000x800 with 1 Axes>"
            ],
            "image/png": "[encoded data removed]"
          },
          "metadata": {}
        }
      ]
    },
    {
      "cell_type": "code",
      "source": [
        "rf_find = RandomForestClassifier(random_state=42, n_jobs=-1)\n",
        "param_grid = {\n",
        "    'n_estimators': [100, 300],\n",
        "    'min_samples_split': [2, 3, 10],\n",
        "    'min_samples_leaf': [3, 10]\n",
        "}\n",
        "\n",
        "grid_rf = GridSearchCV(rf_find, param_grid, cv=5, scoring='accuracy')\n",
        "grid_rf.fit(X, y)\n",
        "\n",
        "print(\"Best parameters: \", grid_rf.best_params_)\n",
        "print('CV Score: ', grid_rf.best_score_)"
      ],
      "metadata": {
        "colab": {
          "base_uri": "https://localhost:8080/"
        },
        "id": "Jvf1xrgazmfS",
        "outputId": "9beb4e9f-f672-4b7d-fbdb-31880086a75c"
      },
      "execution_count": 15,
      "outputs": [
        {
          "output_type": "stream",
          "name": "stdout",
          "text": [
            "Best parameters:  {'min_samples_leaf': 3, 'min_samples_split': 2, 'n_estimators': 100}\n",
            "CV Score:  0.8383842822170611\n"
          ]
        }
      ]
    },
    {
      "cell_type": "code",
      "source": [
        "rf = RandomForestClassifier(\n",
        "    max_depth=None,n_estimators=100,min_samples_leaf=3,min_samples_split=2,\n",
        "    random_state=42, n_jobs=-1\n",
        ")\n",
        "\n",
        "# 特徴量を20個に絞る\n",
        "from sklearn.feature_selection import SelectKBest\n",
        "from sklearn.pipeline import make_pipeline\n",
        "select = SelectKBest(k = 28)\n",
        "\n",
        "pipe = make_pipeline(select, rf)\n",
        "pipe.fit(X, y)\n",
        "\n",
        "\n",
        "print('Train Score: ', pipe.score(X_train, y_train))\n",
        "print('Valid Score: ', pipe.score(X_valid, y_valid))"
      ],
      "metadata": {
        "colab": {
          "base_uri": "https://localhost:8080/"
        },
        "id": "dzLyxpHyzrhq",
        "outputId": "dcaca4c2-7e5e-4858-df08-ee5ea44f6c5e"
      },
      "execution_count": 47,
      "outputs": [
        {
          "output_type": "stream",
          "name": "stdout",
          "text": [
            "Train Score:  0.9076154806491885\n",
            "Valid Score:  0.9333333333333333\n"
          ]
        }
      ]
    },
    {
      "cell_type": "code",
      "source": [
        "pipe_pred = pipe.predict_proba(X_test)\n",
        "pred = pipe_pred.argmax(axis=1)\n",
        "pred.shape"
      ],
      "metadata": {
        "colab": {
          "base_uri": "https://localhost:8080/"
        },
        "id": "ajTpJRBe0rhU",
        "outputId": "cfd5b96b-6eab-4a32-84b4-21a290edad41"
      },
      "execution_count": 48,
      "outputs": [
        {
          "output_type": "execute_result",
          "data": {
            "text/plain": [
              "(418,)"
            ]
          },
          "metadata": {},
          "execution_count": 48
        }
      ]
    },
    {
      "cell_type": "code",
      "source": [
        "path = '/content/drive/My Drive/Colab Notebooks/GCI_2025_summer/Competitions/competition_1/'\n",
        "\n",
        "submission = pd.read_csv(path + 'gender_submission.csv')"
      ],
      "metadata": {
        "id": "nBw5WPDl1RQ0"
      },
      "execution_count": 49,
      "outputs": []
    },
    {
      "cell_type": "code",
      "source": [
        "submission['Perished'] = pred"
      ],
      "metadata": {
        "id": "QCDXSA-A1Sby"
      },
      "execution_count": 50,
      "outputs": []
    },
    {
      "cell_type": "markdown",
      "source": [
        "###結果"
      ],
      "metadata": {
        "id": "pEt5s1AK1Zgn"
      }
    },
    {
      "cell_type": "code",
      "source": [
        "test_augumented = pd.read_csv('/content/drive/MyDrive/Colab Notebooks/GCI_2025_summer/Competitions/competition_1/data/test_augmented.csv')\n",
        "test_augumented.rename(columns={'Survived': 'Perished'}, inplace=True)\n",
        "test_augumented['Perished'] = 1 - test_augumented['Perished']\n",
        "\n",
        "from sklearn.metrics import accuracy_score\n",
        "accuracy_score(submission['Perished'], test_augumented['Perished'])"
      ],
      "metadata": {
        "colab": {
          "base_uri": "https://localhost:8080/"
        },
        "id": "9wJVprCO1ehY",
        "outputId": "c12ddffd-4360-4fe0-f65e-481107143ffe"
      },
      "execution_count": 51,
      "outputs": [
        {
          "output_type": "execute_result",
          "data": {
            "text/plain": [
              "0.784688995215311"
            ]
          },
          "metadata": {},
          "execution_count": 51
        }
      ]
    },
    {
      "cell_type": "markdown",
      "source": [
        "###提出"
      ],
      "metadata": {
        "id": "iopRWuVX1qDs"
      }
    },
    {
      "cell_type": "code",
      "source": [
        "# JupyterLabなどローカルで作業する場合\n",
        "# パスは必要に応じて変更の必要あり\n",
        "submission.to_csv('/content/drive/My Drive/Colab Notebooks/GCI_2025_summer/Competitions/competition_1/submission_v20.csv', index=False)"
      ],
      "metadata": {
        "id": "1OEEOIxP_ZCK"
      },
      "execution_count": 21,
      "outputs": []
    }
  ]
}